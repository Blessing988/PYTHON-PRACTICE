{
 "cells": [
  {
   "attachments": {},
   "cell_type": "markdown",
   "metadata": {},
   "source": [
    "# 1.1. Unpacking a Sequence into Separate Variables \n",
    "\n",
    "## Problem \n",
    "- You have N-element tuple or sequence that you would like to unpack into a collection of N variables"
   ]
  },
  {
   "cell_type": "code",
   "execution_count": 18,
   "metadata": {},
   "outputs": [],
   "source": [
    "from IPython.core.interactiveshell import InteractiveShell\n",
    "InteractiveShell.ast_node_interactivity = \"all\""
   ]
  },
  {
   "attachments": {},
   "cell_type": "markdown",
   "metadata": {},
   "source": [
    "### Example 1"
   ]
  },
  {
   "cell_type": "code",
   "execution_count": 1,
   "metadata": {},
   "outputs": [
    {
     "name": "stdout",
     "output_type": "stream",
     "text": [
      "1\n",
      "0\n"
     ]
    }
   ],
   "source": [
    "x = (1, 0)\n",
    "one, zero = x\n",
    "print(one)\n",
    "print(zero)"
   ]
  },
  {
   "attachments": {},
   "cell_type": "markdown",
   "metadata": {},
   "source": [
    "### Example 2"
   ]
  },
  {
   "cell_type": "code",
   "execution_count": 2,
   "metadata": {},
   "outputs": [
    {
     "data": {
      "text/plain": [
       "(1, 0, 1)"
      ]
     },
     "execution_count": 2,
     "metadata": {},
     "output_type": "execute_result"
    }
   ],
   "source": [
    "data = ['Come', 'go', 1.5, (1, 0, 1)]\n",
    "\n",
    "x, y, z, tup = data\n",
    "tup"
   ]
  },
  {
   "attachments": {},
   "cell_type": "markdown",
   "metadata": {},
   "source": [
    "**NOTE:** The number of elements you are trying to unpack to match with the number of assignments "
   ]
  },
  {
   "attachments": {},
   "cell_type": "markdown",
   "metadata": {},
   "source": [
    "Unpacking can work for other iterables such as files, strings, iterators, generators\n",
    "\n",
    "### Example  : "
   ]
  },
  {
   "cell_type": "code",
   "execution_count": 3,
   "metadata": {},
   "outputs": [
    {
     "name": "stdout",
     "output_type": "stream",
     "text": [
      "H\n",
      "a\n",
      "p\n"
     ]
    }
   ],
   "source": [
    "x, y, z, a, b = 'Happy'\n",
    "print(x)\n",
    "print(y)\n",
    "print(z)"
   ]
  },
  {
   "attachments": {},
   "cell_type": "markdown",
   "metadata": {},
   "source": [
    "### Pick some throwaway variables \n",
    "\n",
    "### Example:"
   ]
  },
  {
   "cell_type": "code",
   "execution_count": 4,
   "metadata": {},
   "outputs": [
    {
     "data": {
      "text/plain": [
       "(1, 0, 1)"
      ]
     },
     "execution_count": 4,
     "metadata": {},
     "output_type": "execute_result"
    }
   ],
   "source": [
    "_, _, _, tup = ['Come', 'go', 1.5, (1, 0, 1)]\n",
    "tup"
   ]
  },
  {
   "attachments": {},
   "cell_type": "markdown",
   "metadata": {},
   "source": [
    "# 1.2 Unpacking Elements from iterables of Arbitary Length \n",
    "\n",
    "> This normally happens when the number of elements in the iterable is more than the number <br>\n",
    "of elements you want to unpack "
   ]
  },
  {
   "attachments": {},
   "cell_type": "markdown",
   "metadata": {},
   "source": [
    "### Example 1"
   ]
  },
  {
   "cell_type": "code",
   "execution_count": 6,
   "metadata": {},
   "outputs": [
    {
     "data": {
      "text/plain": [
       "['+233234563789', '+234887477498']"
      ]
     },
     "execution_count": 6,
     "metadata": {},
     "output_type": "execute_result"
    }
   ],
   "source": [
    "user_details = ('Blessing', 'ablessing441@yahoo.com', '+233234563789', '+234887477498')\n",
    "\n",
    "name, email, *phone_numbers = user_details\n",
    "phone_numbers"
   ]
  },
  {
   "attachments": {},
   "cell_type": "markdown",
   "metadata": {},
   "source": [
    "### Example 2"
   ]
  },
  {
   "cell_type": "code",
   "execution_count": 8,
   "metadata": {},
   "outputs": [
    {
     "name": "stdout",
     "output_type": "stream",
     "text": [
      "[1, 2, 3, 4, 5, 6, 7, 8, 9]\n",
      "10\n"
     ]
    }
   ],
   "source": [
    "ten_numbers = (1, 2, 3, 4, 5, 6, 7, 8, 9, 10)\n",
    "*first_9, last_num = ten_numbers\n",
    "\n",
    "print(first_9)\n",
    "print(last_num)"
   ]
  },
  {
   "attachments": {},
   "cell_type": "markdown",
   "metadata": {},
   "source": [
    "Can be used when an iterable inside another iterable has different number of elements "
   ]
  },
  {
   "cell_type": "code",
   "execution_count": 9,
   "metadata": {},
   "outputs": [
    {
     "name": "stdout",
     "output_type": "stream",
     "text": [
      "eat = 3\n",
      "drink = 6\n",
      "eat = 9\n"
     ]
    }
   ],
   "source": [
    "some_list = [\n",
    "    ('eat', 1, 2),\n",
    "    ('drink', 1, 2, 3),\n",
    "    ('eat', 3, 6)\n",
    "]\n",
    "\n",
    "for x, *args in some_list:\n",
    "    print(f'{x} = {sum(args)}')"
   ]
  },
  {
   "attachments": {},
   "cell_type": "markdown",
   "metadata": {},
   "source": [
    "# 1.3 Keeping the Last N Items "
   ]
  },
  {
   "attachments": {},
   "cell_type": "markdown",
   "metadata": {},
   "source": [
    "## Problem \n",
    "You want to keep a limited history of the last few items seen during iteration or during some kind of \n",
    "preprocessing "
   ]
  },
  {
   "cell_type": "markdown",
   "metadata": {},
   "source": [
    "\n",
    "## Example : "
   ]
  },
  {
   "attachments": {},
   "cell_type": "markdown",
   "metadata": {},
   "source": [
    "Below is the content of a_text_file.txt:\n",
    "\n",
    "*** \n",
    "```python \n",
    "I am not really interested \n",
    "I am coming home \n",
    "Life is okay\n",
    "How are you doing\n",
    "Come home right now \n",
    "Hope you are fine \n",
    "Are you really okay \n",
    "Hmm such is life \n",
    "Home is great\n",
    "```\n",
    "--- "
   ]
  },
  {
   "cell_type": "code",
   "execution_count": 10,
   "metadata": {},
   "outputs": [
    {
     "name": "stdout",
     "output_type": "stream",
     "text": [
      "I am not really interested \n",
      "I am coming home \n",
      "--------------------\n",
      "I am not really interested \n",
      "I am coming home \n",
      "Life is okay\n",
      "How are you doing\n",
      "Come home right now \n",
      "--------------------\n"
     ]
    }
   ],
   "source": [
    "from collections import deque\n",
    "\n",
    "def search(lines, pattern, history=5):\n",
    "    previous_lines = deque(maxlen=history)\n",
    "    for line in lines:\n",
    "        if pattern in line:\n",
    "            yield line, previous_lines\n",
    "        previous_lines.append(line)\n",
    "\n",
    "if __name__ == '__main__':\n",
    "    with open('a_text_file.txt') as f:\n",
    "        for line, prevlines in search(f, 'home'):\n",
    "            for pline in prevlines:\n",
    "                print(pline, end='')\n",
    "            print(line, end='')\n",
    "            print('-'*20)"
   ]
  },
  {
   "cell_type": "code",
   "execution_count": 12,
   "metadata": {},
   "outputs": [
    {
     "data": {
      "text/plain": [
       "deque([5, 7])"
      ]
     },
     "execution_count": 12,
     "metadata": {},
     "output_type": "execute_result"
    }
   ],
   "source": [
    "# Create a deque object in python with fixed size\n",
    "q = deque(maxlen=2)\n",
    "q.append(0)\n",
    "q.append(5)\n",
    "q.append(7)\n",
    "q"
   ]
  },
  {
   "cell_type": "code",
   "execution_count": 13,
   "metadata": {},
   "outputs": [
    {
     "data": {
      "text/plain": [
       "deque([0, 5, 7, 10])"
      ]
     },
     "execution_count": 13,
     "metadata": {},
     "output_type": "execute_result"
    }
   ],
   "source": [
    "# Create a deque object with no specific size\n",
    "q2 = deque()\n",
    "q2.append(0)\n",
    "q2.append(5)\n",
    "q2.append(7)\n",
    "q2.append(10)\n",
    "q2"
   ]
  },
  {
   "cell_type": "code",
   "execution_count": 14,
   "metadata": {},
   "outputs": [
    {
     "data": {
      "text/plain": [
       "deque([4, 0, 5, 7, 10])"
      ]
     },
     "execution_count": 14,
     "metadata": {},
     "output_type": "execute_result"
    }
   ],
   "source": [
    "q2.appendleft(4)\n",
    "q2"
   ]
  },
  {
   "cell_type": "code",
   "execution_count": 15,
   "metadata": {},
   "outputs": [
    {
     "data": {
      "text/plain": [
       "10"
      ]
     },
     "execution_count": 15,
     "metadata": {},
     "output_type": "execute_result"
    }
   ],
   "source": [
    "q2.pop()"
   ]
  },
  {
   "cell_type": "code",
   "execution_count": 18,
   "metadata": {},
   "outputs": [
    {
     "data": {
      "text/plain": [
       "4"
      ]
     },
     "execution_count": 18,
     "metadata": {},
     "output_type": "execute_result"
    }
   ],
   "source": [
    "q2.popleft()"
   ]
  },
  {
   "cell_type": "code",
   "execution_count": 19,
   "metadata": {},
   "outputs": [
    {
     "data": {
      "text/plain": [
       "deque([5, 7])"
      ]
     },
     "execution_count": 19,
     "metadata": {},
     "output_type": "execute_result"
    }
   ],
   "source": [
    "q"
   ]
  },
  {
   "attachments": {},
   "cell_type": "markdown",
   "metadata": {},
   "source": [
    "# 1.4 Finding the Largest or Smallest N Items "
   ]
  },
  {
   "attachments": {},
   "cell_type": "markdown",
   "metadata": {},
   "source": [
    "## Problem\n",
    "> You want to find the samllest or largest N elements in a collection "
   ]
  },
  {
   "attachments": {},
   "cell_type": "markdown",
   "metadata": {},
   "source": [
    "This can be implemented using the [heapq](https://docs.python.org/3/library/heapq.html#:~:text=This%20module%20provides%20an%20implementation,to%20any%20of%20its%20children.) module in python"
   ]
  },
  {
   "cell_type": "code",
   "execution_count": 2,
   "metadata": {},
   "outputs": [
    {
     "name": "stdout",
     "output_type": "stream",
     "text": [
      "Largest 5 numbers:\n",
      "[20, 9, 7, 6, 5]\n",
      "Smallest 5 numbers:\n",
      "[0, 0.4, 1.2, 1.25, 4]\n"
     ]
    }
   ],
   "source": [
    "import heapq \n",
    "nums = [4, 7, 0.4, 0, 5, 6, 1.2, 1.25, 9, 4, 20]\n",
    "\n",
    "# largest 5 numbers \n",
    "print('Largest 5 numbers:')\n",
    "print(heapq.nlargest(5, nums))\n",
    "# smallest 5 numbers \n",
    "print('Smallest 5 numbers:')\n",
    "print(heapq.nsmallest(5, nums))"
   ]
  },
  {
   "attachments": {},
   "cell_type": "markdown",
   "metadata": {},
   "source": [
    "`heapq` can equally be used with dictionaries "
   ]
  },
  {
   "cell_type": "code",
   "execution_count": 24,
   "metadata": {},
   "outputs": [
    {
     "name": "stdout",
     "output_type": "stream",
     "text": [
      "[{'name': 'Kwadwo', 'age': 22, 'salary': 1500}, {'name': 'Blessing', 'age': 20, 'salary': 2000}, {'name': 'Abena', 'age': 19, 'salary': 3000}]\n",
      "[{'name': 'Gilbert', 'age': 25, 'salary': 4000}, {'name': 'Abena', 'age': 19, 'salary': 3000}, {'name': 'Blessing', 'age': 20, 'salary': 2000}]\n"
     ]
    }
   ],
   "source": [
    "some_dict = [\n",
    "    {'name':'Blessing', 'age':20, 'salary':2000},\n",
    "    {'name':'Kwadwo', 'age':22, 'salary':1500},\n",
    "    {'name':'Abena', 'age':19, 'salary':3000},\n",
    "    {'name':'Gilbert', 'age':25, 'salary':4000}\n",
    "]\n",
    "\n",
    "print(heapq.nsmallest(3, some_dict, key=lambda s:s['salary']))\n",
    "print(heapq.nlargest(3, some_dict, key=lambda s:s['salary']))"
   ]
  },
  {
   "cell_type": "code",
   "execution_count": 27,
   "metadata": {},
   "outputs": [
    {
     "name": "stdout",
     "output_type": "stream",
     "text": [
      "[0, 1.25, 0.4, 4, 4, 6, 1.2, 7, 9, 5, 20]\n"
     ]
    }
   ],
   "source": [
    "## Other ways to implement heap \n",
    "nums = [4, 7, 0.4, 0, 5, 6, 1.2, 1.25, 9, 4, 20]\n",
    "heap = list(nums)\n",
    "# arranges the numbers in ascending order by default\n",
    "heapq.heapify(heap)\n",
    "print(heap)"
   ]
  },
  {
   "cell_type": "code",
   "execution_count": 28,
   "metadata": {},
   "outputs": [
    {
     "data": {
      "text/plain": [
       "0"
      ]
     },
     "execution_count": 28,
     "metadata": {},
     "output_type": "execute_result"
    }
   ],
   "source": [
    "heap[0]"
   ]
  },
  {
   "attachments": {},
   "cell_type": "markdown",
   "metadata": {},
   "source": [
    "`heapq.heappop(heap)` pops off the first item in the heap which is obviously the smallest element in the heap \n"
   ]
  },
  {
   "cell_type": "code",
   "execution_count": 29,
   "metadata": {},
   "outputs": [
    {
     "data": {
      "text/plain": [
       "0"
      ]
     },
     "execution_count": 29,
     "metadata": {},
     "output_type": "execute_result"
    }
   ],
   "source": [
    "heapq.heappop(heap)"
   ]
  },
  {
   "cell_type": "code",
   "execution_count": 30,
   "metadata": {},
   "outputs": [
    {
     "data": {
      "text/plain": [
       "0.4"
      ]
     },
     "execution_count": 30,
     "metadata": {},
     "output_type": "execute_result"
    }
   ],
   "source": [
    "heapq.heappop(heap)"
   ]
  },
  {
   "cell_type": "code",
   "execution_count": 31,
   "metadata": {},
   "outputs": [
    {
     "data": {
      "text/plain": [
       "1.2"
      ]
     },
     "execution_count": 31,
     "metadata": {},
     "output_type": "execute_result"
    }
   ],
   "source": [
    "heapq.heappop(heap)"
   ]
  },
  {
   "attachments": {},
   "cell_type": "markdown",
   "metadata": {},
   "source": [
    "`CAVEATS`:\n",
    "> `heapq.nsmallest()` or `heapq.nlargest()` is appropriate when are using it to find small number of <br>\n",
    "items from the heap \n",
    "- If you are trying to find one largest or smallest element it's advisable to use `max()` or `min()`\n",
    "- If N(the number of elements you are trying to fetch from the heap) is about the same size of the heap <br>\n",
    "use sorted(items)[:N] or sorted(items[:-N])"
   ]
  },
  {
   "attachments": {},
   "cell_type": "markdown",
   "metadata": {},
   "source": [
    "# 1.5 Implementing a Priority Queue"
   ]
  },
  {
   "attachments": {},
   "cell_type": "markdown",
   "metadata": {},
   "source": [
    "## Problem\n",
    "\n",
    ">You want to implement a queue that sorts items based on a given priority and then returns the item with the highest priority whenever there is a pop operation "
   ]
  },
  {
   "cell_type": "code",
   "execution_count": 25,
   "metadata": {},
   "outputs": [],
   "source": [
    "class PriorityQueue(object):\n",
    "    \n",
    "    def __init__(self):\n",
    "        self._index = 0\n",
    "        self._queue = []\n",
    "        \n",
    "    def push(self, item, priority):\n",
    "        heapq.heappush(self._queue, (-priority, self._index, item))\n",
    "        self._index +=1 \n",
    "    \n",
    "    def pop(self):\n",
    "        return heapq.heappop(self._queue)[-1]\n",
    "    \n",
    "class Item(object):\n",
    "    \n",
    "    def __init__(self, name):\n",
    "        self.name = name \n",
    "    \n",
    "    def __repr__(self):\n",
    "        return 'Item({!r})'.format(self.name)\n",
    "    \n",
    "pq = PriorityQueue()\n",
    "pq.push(Item(4), 1)\n",
    "pq.push(Item(3), 2)\n",
    "pq.push(Item(5), 4)\n",
    "pq.push(Item(0), 3)\n",
    "pq.push(Item(7), 3)"
   ]
  },
  {
   "cell_type": "code",
   "execution_count": 26,
   "metadata": {},
   "outputs": [
    {
     "data": {
      "text/plain": [
       "[(-4, 2, Item(5)),\n",
       " (-3, 3, Item(0)),\n",
       " (-2, 1, Item(3)),\n",
       " (-1, 0, Item(4)),\n",
       " (-3, 4, Item(7))]"
      ]
     },
     "execution_count": 26,
     "metadata": {},
     "output_type": "execute_result"
    }
   ],
   "source": [
    "pq._queue"
   ]
  },
  {
   "cell_type": "code",
   "execution_count": 24,
   "metadata": {},
   "outputs": [
    {
     "data": {
      "text/plain": [
       "Item(5)"
      ]
     },
     "execution_count": 24,
     "metadata": {},
     "output_type": "execute_result"
    },
    {
     "data": {
      "text/plain": [
       "Item(0)"
      ]
     },
     "execution_count": 24,
     "metadata": {},
     "output_type": "execute_result"
    },
    {
     "data": {
      "text/plain": [
       "Item(7)"
      ]
     },
     "execution_count": 24,
     "metadata": {},
     "output_type": "execute_result"
    },
    {
     "data": {
      "text/plain": [
       "Item(3)"
      ]
     },
     "execution_count": 24,
     "metadata": {},
     "output_type": "execute_result"
    },
    {
     "data": {
      "text/plain": [
       "Item(4)"
      ]
     },
     "execution_count": 24,
     "metadata": {},
     "output_type": "execute_result"
    }
   ],
   "source": [
    "pq.pop()\n",
    "pq.pop()\n",
    "pq.pop()\n",
    "pq.pop()\n",
    "pq.pop()"
   ]
  },
  {
   "attachments": {},
   "cell_type": "markdown",
   "metadata": {},
   "source": [
    "### Intuition behind the Priority Queue Implementation \n",
    "> we initialize `self._index = 0` to indicate the starting point <br>\n",
    ">\n",
    "> `self._queue` represents our priority queue <br>\n",
    ">\n",
    "> `push(self, item, priority)` - this applies `heapq.heappush(self._queue, (-priority, index, item))` to add elements to our queue\n",
    "> - `-priority` argument makes sure that the item with the highest priority will be at the beginning of the queue since heaps automaticallly sorts items in ascending order\n",
    ">\n",
    "> - we increased the index at every push operation so that even if some items have the same priority, the `index` argument will make the item which was pushed first also be popped out first \n"
   ]
  },
  {
   "attachments": {},
   "cell_type": "markdown",
   "metadata": {},
   "source": [
    ">As illustrated above, the item with the highest priority(i.e. 4) is 5 so it gets popped out first. <br>\n",
    ">Though Item 0 and Item 7 have the same priority, Item 0 gets popped out first because it was <br>\n",
    ">pushed into the queue first. \n",
    ">\n",
    ">\n",
    "> `NOTE` : Both push and pop operations in a heap have `O(logN)` where N is the number of items in the heap. "
   ]
  },
  {
   "attachments": {},
   "cell_type": "markdown",
   "metadata": {},
   "source": [
    "# 1.6. Mapping Keys to Multiple Values in a Dictionary"
   ]
  },
  {
   "attachments": {},
   "cell_type": "markdown",
   "metadata": {},
   "source": [
    "## Problem\n",
    "> You want to create a dictionary whose keys have more than one value"
   ]
  },
  {
   "attachments": {},
   "cell_type": "markdown",
   "metadata": {},
   "source": [
    "## Example "
   ]
  },
  {
   "attachments": {},
   "cell_type": "markdown",
   "metadata": {},
   "source": [
    "### Method 1"
   ]
  },
  {
   "cell_type": "code",
   "execution_count": 39,
   "metadata": {},
   "outputs": [
    {
     "data": {
      "text/plain": [
       "{'a': [1, 2, 0], 'b': [3, 6, 7]}"
      ]
     },
     "execution_count": 39,
     "metadata": {},
     "output_type": "execute_result"
    },
    {
     "data": {
      "text/plain": [
       "{'c': {0, 1, 3}, 'd': {1, 2, 3}}"
      ]
     },
     "execution_count": 39,
     "metadata": {},
     "output_type": "execute_result"
    }
   ],
   "source": [
    "# Value is a list\n",
    "my_dict = {\n",
    "    'a' : [1, 2, 0],\n",
    "    'b' : [3, 6, 7]\n",
    "}\n",
    "\n",
    "# Value is a set\n",
    "dict_2 = {\n",
    "    'c' : {1, 0, 3},\n",
    "    'd' : {1, 2, 3}\n",
    "}\n",
    "\n",
    "my_dict\n",
    "dict_2"
   ]
  },
  {
   "attachments": {},
   "cell_type": "markdown",
   "metadata": {},
   "source": [
    "If you are concerned about the order of the values you should use `list` but if you don't care about the order and duplicates you can use a `set` as your value"
   ]
  },
  {
   "attachments": {},
   "cell_type": "markdown",
   "metadata": {},
   "source": [
    "### Method 2 \n",
    "> One can also use `defaultdict` from `collections` module to achieve this "
   ]
  },
  {
   "cell_type": "code",
   "execution_count": 40,
   "metadata": {},
   "outputs": [],
   "source": [
    "from collections import defaultdict"
   ]
  },
  {
   "cell_type": "code",
   "execution_count": 42,
   "metadata": {},
   "outputs": [
    {
     "data": {
      "text/plain": [
       "defaultdict(list, {'a': [1, 2, 0], 'b': [3, 6, 7]})"
      ]
     },
     "execution_count": 42,
     "metadata": {},
     "output_type": "execute_result"
    }
   ],
   "source": [
    "# Initialize your dictionary\n",
    "\n",
    "# Using list as our value\n",
    "my_dict = defaultdict(list)\n",
    "# Adding our keys and values \n",
    "# key 'a\n",
    "my_dict['a'].append(1)\n",
    "my_dict['a'].append(2)\n",
    "my_dict['a'].append(0)\n",
    "# key 'b'\n",
    "my_dict['b'].append(3)\n",
    "my_dict['b'].append(6)\n",
    "my_dict['b'].append(7)\n",
    "\n",
    "my_dict"
   ]
  },
  {
   "cell_type": "code",
   "execution_count": 44,
   "metadata": {},
   "outputs": [
    {
     "data": {
      "text/plain": [
       "defaultdict(set, {'c': {0, 1, 3}, 'd': {1, 2, 3}})"
      ]
     },
     "execution_count": 44,
     "metadata": {},
     "output_type": "execute_result"
    }
   ],
   "source": [
    "# Initialize your dictionary\n",
    "\n",
    "# Using set as our value\n",
    "dict_2 = defaultdict(set)\n",
    "# Adding our keys and values \n",
    "# key 'a\n",
    "dict_2['c'].add(1)\n",
    "dict_2['c'].add(0)\n",
    "dict_2['c'].add(3)\n",
    "# key 'b'\n",
    "dict_2['d'].add(1)\n",
    "dict_2['d'].add(2)\n",
    "dict_2['d'].add(3)\n",
    "\n",
    "dict_2"
   ]
  },
  {
   "attachments": {},
   "cell_type": "markdown",
   "metadata": {},
   "source": [
    "# 1.7. Keeping Dictionaries in Order "
   ]
  },
  {
   "attachments": {},
   "cell_type": "markdown",
   "metadata": {},
   "source": [
    "## Problem\n",
    ">You want to create a dictionary and control the order of items during iteration or serialization "
   ]
  },
  {
   "cell_type": "code",
   "execution_count": 47,
   "metadata": {},
   "outputs": [
    {
     "name": "stdout",
     "output_type": "stream",
     "text": [
      "Name Blessing\n",
      "Age 20\n",
      "Gender Male\n"
     ]
    }
   ],
   "source": [
    "from collections import OrderedDict\n",
    "\n",
    "d = OrderedDict()\n",
    "d['Name'] = 'Blessing'\n",
    "d['Age'] = 20\n",
    "d['Gender'] = 'Male'\n",
    "\n",
    "for key in d:\n",
    "    print(key, d[key])"
   ]
  },
  {
   "attachments": {},
   "cell_type": "markdown",
   "metadata": {},
   "source": [
    "This is best when you want to serialize or encode your data into a different format and use it later <br>\n",
    "\n",
    "### Example :"
   ]
  },
  {
   "cell_type": "code",
   "execution_count": 48,
   "metadata": {},
   "outputs": [
    {
     "data": {
      "text/plain": [
       "'{\"Name\": \"Blessing\", \"Age\": 20, \"Gender\": \"Male\"}'"
      ]
     },
     "execution_count": 48,
     "metadata": {},
     "output_type": "execute_result"
    }
   ],
   "source": [
    "import json \n",
    "json.dumps(d)"
   ]
  },
  {
   "attachments": {},
   "cell_type": "markdown",
   "metadata": {},
   "source": [
    ">**CAVEAT** : An `OrderedDict()` is twice as large as a `normal dict` because it creates an extra linked list so you have to take into consideration the amount of data that you will use. "
   ]
  },
  {
   "attachments": {},
   "cell_type": "markdown",
   "metadata": {},
   "source": [
    "# 1.8. Calculating with Dictionaries"
   ]
  },
  {
   "attachments": {},
   "cell_type": "markdown",
   "metadata": {},
   "source": [
    "## Problem \n",
    "> You want to perform operations such as finding the minimum value, maximum value or sort the values in a dictionary "
   ]
  },
  {
   "cell_type": "code",
   "execution_count": 2,
   "metadata": {},
   "outputs": [],
   "source": [
    "ages = {\n",
    "    'Blessing' : 12,\n",
    "    'Kofi' : 23, \n",
    "    'Abena' : 22,\n",
    "    'Ama' : 30,\n",
    "    'Akosua' : 28\n",
    "}"
   ]
  },
  {
   "attachments": {},
   "cell_type": "markdown",
   "metadata": {},
   "source": [
    "Suppose we want to find the maximum and minimum age within our dictionary :"
   ]
  },
  {
   "cell_type": "code",
   "execution_count": 4,
   "metadata": {},
   "outputs": [
    {
     "name": "stdout",
     "output_type": "stream",
     "text": [
      "(30, 'Ama')\n",
      "(12, 'Blessing')\n"
     ]
    }
   ],
   "source": [
    "# Finding the maximum age \n",
    "print(max(zip(ages.values(), ages.keys())))\n",
    "\n",
    "# Finding the minimum age \n",
    "print(min(zip(ages.values(), ages.keys())))"
   ]
  },
  {
   "attachments": {},
   "cell_type": "markdown",
   "metadata": {},
   "source": [
    "If we want to sort we can also achieve that as follows : "
   ]
  },
  {
   "cell_type": "code",
   "execution_count": 5,
   "metadata": {},
   "outputs": [
    {
     "name": "stdout",
     "output_type": "stream",
     "text": [
      "[(12, 'Blessing'), (22, 'Abena'), (23, 'Kofi'), (28, 'Akosua'), (30, 'Ama')]\n"
     ]
    }
   ],
   "source": [
    "# Sorting \n",
    "print(sorted(zip(ages.values(), ages.keys())))"
   ]
  },
  {
   "attachments": {},
   "cell_type": "markdown",
   "metadata": {},
   "source": [
    "Trying to directly aggregate our dictionary using max/min will just consider only the `keys`. <br>\n",
    "We want to know the `keys` that correspond to the highest and lowest value in our dictionary <br>\n",
    "\n",
    "We want to return `Ama` which will represent the key with the highest value or `Blessing` which also represents the key with the lowest value "
   ]
  },
  {
   "cell_type": "code",
   "execution_count": 7,
   "metadata": {},
   "outputs": [
    {
     "name": "stdout",
     "output_type": "stream",
     "text": [
      "Kofi\n",
      "Abena\n"
     ]
    }
   ],
   "source": [
    "print(max(ages))\n",
    "print(min(ages))"
   ]
  },
  {
   "attachments": {},
   "cell_type": "markdown",
   "metadata": {},
   "source": [
    "This is how we can achieve it : "
   ]
  },
  {
   "cell_type": "code",
   "execution_count": 9,
   "metadata": {},
   "outputs": [
    {
     "name": "stdout",
     "output_type": "stream",
     "text": [
      "Ama\n"
     ]
    }
   ],
   "source": [
    "# Getting the maximum age \n",
    "print(max(ages, key=lambda s : ages[s]))"
   ]
  },
  {
   "cell_type": "code",
   "execution_count": 10,
   "metadata": {},
   "outputs": [
    {
     "name": "stdout",
     "output_type": "stream",
     "text": [
      "Blessing\n"
     ]
    }
   ],
   "source": [
    "# Getting the maximum age \n",
    "print(min(ages, key=lambda s : ages[s]))"
   ]
  },
  {
   "attachments": {},
   "cell_type": "markdown",
   "metadata": {},
   "source": [
    ">In instances were the dictionary has the same values and different keys, aggregation (min/max operation) will be based on the keys\n",
    "\n",
    "### Example : "
   ]
  },
  {
   "cell_type": "code",
   "execution_count": 13,
   "metadata": {},
   "outputs": [
    {
     "name": "stdout",
     "output_type": "stream",
     "text": [
      "(1, 'AAA')\n",
      "(2, 'B')\n"
     ]
    }
   ],
   "source": [
    "some_dict = {\n",
    "    'AAA' : 1,\n",
    "    'B' : 2,\n",
    "    'AAB' : 1\n",
    "}\n",
    "\n",
    "# Printing the minimum\n",
    "print(min(zip(some_dict.values(), some_dict.keys())))\n",
    "# Printing the maximum \n",
    "print(max(zip(some_dict.values(), some_dict.keys())))"
   ]
  },
  {
   "attachments": {},
   "cell_type": "markdown",
   "metadata": {},
   "source": [
    "# 1.9. Finding Commonalities in Two Dictionaries "
   ]
  },
  {
   "attachments": {},
   "cell_type": "markdown",
   "metadata": {},
   "source": [
    "## Problem\n",
    "> Suppose you want to compare two dictionaries and perform some operations "
   ]
  },
  {
   "cell_type": "code",
   "execution_count": 17,
   "metadata": {},
   "outputs": [],
   "source": [
    "a = {\n",
    "    'x' : 2,\n",
    "    'y' : 3,\n",
    "    'z' : 8\n",
    "}\n",
    "\n",
    "b = {\n",
    "    'f' : 6,\n",
    "    'h' : 3,\n",
    "    'x' : 2\n",
    "}"
   ]
  },
  {
   "cell_type": "code",
   "execution_count": 18,
   "metadata": {},
   "outputs": [
    {
     "data": {
      "text/plain": [
       "{'x'}"
      ]
     },
     "execution_count": 18,
     "metadata": {},
     "output_type": "execute_result"
    }
   ],
   "source": [
    "# Compare the keys that are commom in both dictionaries \n",
    "a.keys() & b.keys()"
   ]
  },
  {
   "cell_type": "code",
   "execution_count": 19,
   "metadata": {},
   "outputs": [
    {
     "data": {
      "text/plain": [
       "{('x', 2)}"
      ]
     },
     "execution_count": 19,
     "metadata": {},
     "output_type": "execute_result"
    }
   ],
   "source": [
    "# Compare items that are common \n",
    "a.items() & b.items()"
   ]
  },
  {
   "cell_type": "code",
   "execution_count": 20,
   "metadata": {},
   "outputs": [
    {
     "data": {
      "text/plain": [
       "{'y', 'z'}"
      ]
     },
     "execution_count": 20,
     "metadata": {},
     "output_type": "execute_result"
    }
   ],
   "source": [
    "# Check keys that are in a but not b\n",
    "a.keys() - b.keys()"
   ]
  },
  {
   "cell_type": "code",
   "execution_count": 21,
   "metadata": {},
   "outputs": [
    {
     "data": {
      "text/plain": [
       "{('y', 3), ('z', 8)}"
      ]
     },
     "execution_count": 21,
     "metadata": {},
     "output_type": "execute_result"
    }
   ],
   "source": [
    "# Check items that are in a but not b\n",
    "a.items() - b.items()"
   ]
  },
  {
   "cell_type": "code",
   "execution_count": 22,
   "metadata": {},
   "outputs": [
    {
     "data": {
      "text/plain": [
       "{'z': 8}"
      ]
     },
     "execution_count": 22,
     "metadata": {},
     "output_type": "execute_result"
    }
   ],
   "source": [
    "# Making a dictionary which some keys removed using dictionary comprehension \n",
    "{key:a[key] for key in a.keys() - {'x', 'y'}}\n"
   ]
  },
  {
   "attachments": {},
   "cell_type": "markdown",
   "metadata": {},
   "source": [
    "# 1.10. Removing Duplicates from a Sequence while maintaining order "
   ]
  },
  {
   "attachments": {},
   "cell_type": "markdown",
   "metadata": {},
   "source": [
    "## Problem \n",
    "> You want to make sure the order of a sequence is preserved after you remove duplicates "
   ]
  },
  {
   "cell_type": "code",
   "execution_count": 46,
   "metadata": {},
   "outputs": [
    {
     "data": {
      "text/plain": [
       "[1, 2, 4, 5, 6, 7]"
      ]
     },
     "execution_count": 46,
     "metadata": {},
     "output_type": "execute_result"
    }
   ],
   "source": [
    "def dedupe(items):\n",
    "    s = set()\n",
    "    for item in items:\n",
    "        if item not in s:\n",
    "            yield item \n",
    "            s.add(item)\n",
    "\n",
    "a_list = [1, 2, 4, 2, 1, 4, 5, 6, 7, 5]\n",
    "list(dedupe(a_list))"
   ]
  },
  {
   "attachments": {},
   "cell_type": "markdown",
   "metadata": {},
   "source": [
    ">The above method will only work if you have a hashable object like a list "
   ]
  },
  {
   "cell_type": "code",
   "execution_count": 47,
   "metadata": {},
   "outputs": [
    {
     "ename": "TypeError",
     "evalue": "unhashable type: 'dict'",
     "output_type": "error",
     "traceback": [
      "\u001b[1;31m---------------------------------------------------------------------------\u001b[0m",
      "\u001b[1;31mTypeError\u001b[0m                                 Traceback (most recent call last)",
      "\u001b[1;32mc:\\Users\\Blessing\\Documents\\Python-Practice\\Data-Structures-And-Algorithms\\Data-Structures-And-Algorithms.ipynb Cell 92\u001b[0m in \u001b[0;36m<cell line: 2>\u001b[1;34m()\u001b[0m\n\u001b[0;32m      <a href='vscode-notebook-cell:/c%3A/Users/Blessing/Documents/Python-Practice/Data-Structures-And-Algorithms/Data-Structures-And-Algorithms.ipynb#Y201sZmlsZQ%3D%3D?line=0'>1</a>\u001b[0m non_hash \u001b[39m=\u001b[39m [{\u001b[39m'\u001b[39m\u001b[39mx\u001b[39m\u001b[39m'\u001b[39m:\u001b[39m1\u001b[39m, \u001b[39m'\u001b[39m\u001b[39my\u001b[39m\u001b[39m'\u001b[39m:\u001b[39m2\u001b[39m}, {\u001b[39m'\u001b[39m\u001b[39mx\u001b[39m\u001b[39m'\u001b[39m:\u001b[39m1\u001b[39m, \u001b[39m'\u001b[39m\u001b[39my\u001b[39m\u001b[39m'\u001b[39m:\u001b[39m1\u001b[39m}, {\u001b[39m'\u001b[39m\u001b[39mx\u001b[39m\u001b[39m'\u001b[39m:\u001b[39m1\u001b[39m, \u001b[39m'\u001b[39m\u001b[39my\u001b[39m\u001b[39m'\u001b[39m:\u001b[39m2\u001b[39m}]\n\u001b[1;32m----> <a href='vscode-notebook-cell:/c%3A/Users/Blessing/Documents/Python-Practice/Data-Structures-And-Algorithms/Data-Structures-And-Algorithms.ipynb#Y201sZmlsZQ%3D%3D?line=1'>2</a>\u001b[0m \u001b[39mlist\u001b[39;49m(dedupe(non_hash))\n",
      "\u001b[1;32mc:\\Users\\Blessing\\Documents\\Python-Practice\\Data-Structures-And-Algorithms\\Data-Structures-And-Algorithms.ipynb Cell 92\u001b[0m in \u001b[0;36mdedupe\u001b[1;34m(items)\u001b[0m\n\u001b[0;32m      <a href='vscode-notebook-cell:/c%3A/Users/Blessing/Documents/Python-Practice/Data-Structures-And-Algorithms/Data-Structures-And-Algorithms.ipynb#Y201sZmlsZQ%3D%3D?line=1'>2</a>\u001b[0m s \u001b[39m=\u001b[39m \u001b[39mset\u001b[39m()\n\u001b[0;32m      <a href='vscode-notebook-cell:/c%3A/Users/Blessing/Documents/Python-Practice/Data-Structures-And-Algorithms/Data-Structures-And-Algorithms.ipynb#Y201sZmlsZQ%3D%3D?line=2'>3</a>\u001b[0m \u001b[39mfor\u001b[39;00m item \u001b[39min\u001b[39;00m items:\n\u001b[1;32m----> <a href='vscode-notebook-cell:/c%3A/Users/Blessing/Documents/Python-Practice/Data-Structures-And-Algorithms/Data-Structures-And-Algorithms.ipynb#Y201sZmlsZQ%3D%3D?line=3'>4</a>\u001b[0m     \u001b[39mif\u001b[39;00m item \u001b[39mnot\u001b[39;49;00m \u001b[39min\u001b[39;49;00m s:\n\u001b[0;32m      <a href='vscode-notebook-cell:/c%3A/Users/Blessing/Documents/Python-Practice/Data-Structures-And-Algorithms/Data-Structures-And-Algorithms.ipynb#Y201sZmlsZQ%3D%3D?line=4'>5</a>\u001b[0m         \u001b[39myield\u001b[39;00m item \n\u001b[0;32m      <a href='vscode-notebook-cell:/c%3A/Users/Blessing/Documents/Python-Practice/Data-Structures-And-Algorithms/Data-Structures-And-Algorithms.ipynb#Y201sZmlsZQ%3D%3D?line=5'>6</a>\u001b[0m         s\u001b[39m.\u001b[39madd(item)\n",
      "\u001b[1;31mTypeError\u001b[0m: unhashable type: 'dict'"
     ]
    }
   ],
   "source": [
    "non_hash = [{'x':1, 'y':2}, {'x':1, 'y':1}, {'x':1, 'y':2}]\n",
    "list(dedupe(non_hash))"
   ]
  },
  {
   "attachments": {},
   "cell_type": "markdown",
   "metadata": {},
   "source": [
    ">The above generated an error because we used a non-hashable object i.e. dict\n"
   ]
  },
  {
   "attachments": {},
   "cell_type": "markdown",
   "metadata": {},
   "source": [
    ">Generalizing the code to include non-hash objects :"
   ]
  },
  {
   "cell_type": "code",
   "execution_count": 50,
   "metadata": {},
   "outputs": [
    {
     "data": {
      "text/plain": [
       "[{'x': 1, 'y': 2}, {'x': 1, 'y': 1}]"
      ]
     },
     "execution_count": 50,
     "metadata": {},
     "output_type": "execute_result"
    }
   ],
   "source": [
    "def dedupe(items, key=None):\n",
    "    s = set()\n",
    "    for item in items:\n",
    "        val = item if key is None else key(item)\n",
    "        if val not in s:\n",
    "            yield item\n",
    "            s.add(val)\n",
    "\n",
    "list(dedupe(non_hash, key=lambda a : (a['x'], a['y'])))"
   ]
  }
 ],
 "metadata": {
  "kernelspec": {
   "display_name": "Python 3",
   "language": "python",
   "name": "python3"
  },
  "language_info": {
   "codemirror_mode": {
    "name": "ipython",
    "version": 3
   },
   "file_extension": ".py",
   "mimetype": "text/x-python",
   "name": "python",
   "nbconvert_exporter": "python",
   "pygments_lexer": "ipython3",
   "version": "3.9.8"
  },
  "orig_nbformat": 4,
  "vscode": {
   "interpreter": {
    "hash": "297ad8aa44b3e7fc18f71cc7cf2f2a04aaff6dd40f0a2c1a8eedb800597f95eb"
   }
  }
 },
 "nbformat": 4,
 "nbformat_minor": 2
}
