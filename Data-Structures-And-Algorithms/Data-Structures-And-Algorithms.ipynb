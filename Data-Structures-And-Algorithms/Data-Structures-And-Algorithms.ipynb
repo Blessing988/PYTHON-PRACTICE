{
 "cells": [
  {
   "attachments": {},
   "cell_type": "markdown",
   "metadata": {},
   "source": [
    "# 1.1. Unpacking a Sequence into Separate Variables \n",
    "\n",
    "## Problem \n",
    "- You have N-element tuple or sequence that you would like to unpack into a collection of N variables"
   ]
  },
  {
   "cell_type": "code",
   "execution_count": 78,
   "metadata": {},
   "outputs": [],
   "source": [
    "from IPython.core.interactiveshell import InteractiveShell\n",
    "InteractiveShell.ast_node_interactivity = \"all\""
   ]
  },
  {
   "attachments": {},
   "cell_type": "markdown",
   "metadata": {},
   "source": [
    "### Example 1"
   ]
  },
  {
   "cell_type": "code",
   "execution_count": 1,
   "metadata": {},
   "outputs": [
    {
     "name": "stdout",
     "output_type": "stream",
     "text": [
      "1\n",
      "0\n"
     ]
    }
   ],
   "source": [
    "x = (1, 0)\n",
    "one, zero = x\n",
    "print(one)\n",
    "print(zero)"
   ]
  },
  {
   "attachments": {},
   "cell_type": "markdown",
   "metadata": {},
   "source": [
    "### Example 2"
   ]
  },
  {
   "cell_type": "code",
   "execution_count": 2,
   "metadata": {},
   "outputs": [
    {
     "data": {
      "text/plain": [
       "(1, 0, 1)"
      ]
     },
     "execution_count": 2,
     "metadata": {},
     "output_type": "execute_result"
    }
   ],
   "source": [
    "data = ['Come', 'go', 1.5, (1, 0, 1)]\n",
    "\n",
    "x, y, z, tup = data\n",
    "tup"
   ]
  },
  {
   "attachments": {},
   "cell_type": "markdown",
   "metadata": {},
   "source": [
    "**NOTE:** The number of elements you are trying to unpack must match with the number of assignments "
   ]
  },
  {
   "attachments": {},
   "cell_type": "markdown",
   "metadata": {},
   "source": [
    "Unpacking can work for other iterables such as files, strings, iterators, generators\n",
    "\n",
    "### Example  : "
   ]
  },
  {
   "cell_type": "code",
   "execution_count": 3,
   "metadata": {},
   "outputs": [
    {
     "name": "stdout",
     "output_type": "stream",
     "text": [
      "H\n",
      "a\n",
      "p\n"
     ]
    }
   ],
   "source": [
    "x, y, z, a, b = 'Happy'\n",
    "print(x)\n",
    "print(y)\n",
    "print(z)"
   ]
  },
  {
   "attachments": {},
   "cell_type": "markdown",
   "metadata": {},
   "source": [
    "### Pick some throwaway variables \n",
    "\n",
    "### Example:"
   ]
  },
  {
   "cell_type": "code",
   "execution_count": 4,
   "metadata": {},
   "outputs": [
    {
     "data": {
      "text/plain": [
       "(1, 0, 1)"
      ]
     },
     "execution_count": 4,
     "metadata": {},
     "output_type": "execute_result"
    }
   ],
   "source": [
    "_, _, _, tup = ['Come', 'go', 1.5, (1, 0, 1)]\n",
    "tup"
   ]
  },
  {
   "attachments": {},
   "cell_type": "markdown",
   "metadata": {},
   "source": [
    "# 1.2 Unpacking Elements from iterables of Arbitary Length \n",
    "\n",
    "> This normally happens when the number of elements in the iterable is more than the number <br>\n",
    "of elements you want to unpack "
   ]
  },
  {
   "attachments": {},
   "cell_type": "markdown",
   "metadata": {},
   "source": [
    "### Example 1"
   ]
  },
  {
   "cell_type": "code",
   "execution_count": 6,
   "metadata": {},
   "outputs": [
    {
     "data": {
      "text/plain": [
       "['+233234563789', '+234887477498']"
      ]
     },
     "execution_count": 6,
     "metadata": {},
     "output_type": "execute_result"
    }
   ],
   "source": [
    "user_details = ('Blessing', 'ablessing441@yahoo.com', '+233234563789', '+234887477498')\n",
    "\n",
    "name, email, *phone_numbers = user_details\n",
    "phone_numbers"
   ]
  },
  {
   "attachments": {},
   "cell_type": "markdown",
   "metadata": {},
   "source": [
    "### Example 2"
   ]
  },
  {
   "cell_type": "code",
   "execution_count": 8,
   "metadata": {},
   "outputs": [
    {
     "name": "stdout",
     "output_type": "stream",
     "text": [
      "[1, 2, 3, 4, 5, 6, 7, 8, 9]\n",
      "10\n"
     ]
    }
   ],
   "source": [
    "ten_numbers = (1, 2, 3, 4, 5, 6, 7, 8, 9, 10)\n",
    "*first_9, last_num = ten_numbers\n",
    "\n",
    "print(first_9)\n",
    "print(last_num)"
   ]
  },
  {
   "attachments": {},
   "cell_type": "markdown",
   "metadata": {},
   "source": [
    "Can be used when an iterable inside another iterable has different number of elements "
   ]
  },
  {
   "cell_type": "code",
   "execution_count": 9,
   "metadata": {},
   "outputs": [
    {
     "name": "stdout",
     "output_type": "stream",
     "text": [
      "eat = 3\n",
      "drink = 6\n",
      "eat = 9\n"
     ]
    }
   ],
   "source": [
    "some_list = [\n",
    "    ('eat', 1, 2),\n",
    "    ('drink', 1, 2, 3),\n",
    "    ('eat', 3, 6)\n",
    "]\n",
    "\n",
    "for x, *args in some_list:\n",
    "    print(f'{x} = {sum(args)}')"
   ]
  },
  {
   "attachments": {},
   "cell_type": "markdown",
   "metadata": {},
   "source": [
    "# 1.3 Keeping the Last N Items "
   ]
  },
  {
   "attachments": {},
   "cell_type": "markdown",
   "metadata": {},
   "source": [
    "## Problem \n",
    "You want to keep a limited history of the last few items seen during iteration or during some kind of \n",
    "preprocessing "
   ]
  },
  {
   "cell_type": "markdown",
   "metadata": {},
   "source": [
    "\n",
    "## Example : "
   ]
  },
  {
   "attachments": {},
   "cell_type": "markdown",
   "metadata": {},
   "source": [
    "Below is the content of a_text_file.txt:\n",
    "\n",
    "*** \n",
    "```python \n",
    "I am not really interested \n",
    "I am coming home \n",
    "Life is okay\n",
    "How are you doing\n",
    "Come home right now \n",
    "Hope you are fine \n",
    "Are you really okay \n",
    "Hmm such is life \n",
    "Home is great\n",
    "```\n",
    "--- "
   ]
  },
  {
   "cell_type": "code",
   "execution_count": 10,
   "metadata": {},
   "outputs": [
    {
     "name": "stdout",
     "output_type": "stream",
     "text": [
      "I am not really interested \n",
      "I am coming home \n",
      "--------------------\n",
      "I am not really interested \n",
      "I am coming home \n",
      "Life is okay\n",
      "How are you doing\n",
      "Come home right now \n",
      "--------------------\n"
     ]
    }
   ],
   "source": [
    "from collections import deque\n",
    "\n",
    "def search(lines, pattern, history=5):\n",
    "    previous_lines = deque(maxlen=history)\n",
    "    for line in lines:\n",
    "        if pattern in line:\n",
    "            yield line, previous_lines\n",
    "        previous_lines.append(line)\n",
    "\n",
    "if __name__ == '__main__':\n",
    "    with open('a_text_file.txt') as f:\n",
    "        for line, prevlines in search(f, 'home'):\n",
    "            for pline in prevlines:\n",
    "                print(pline, end='')\n",
    "            print(line, end='')\n",
    "            print('-'*20)"
   ]
  },
  {
   "cell_type": "code",
   "execution_count": 12,
   "metadata": {},
   "outputs": [
    {
     "data": {
      "text/plain": [
       "deque([5, 7])"
      ]
     },
     "execution_count": 12,
     "metadata": {},
     "output_type": "execute_result"
    }
   ],
   "source": [
    "# Create a deque object in python with fixed size\n",
    "q = deque(maxlen=2)\n",
    "q.append(0)\n",
    "q.append(5)\n",
    "q.append(7)\n",
    "q"
   ]
  },
  {
   "cell_type": "code",
   "execution_count": 13,
   "metadata": {},
   "outputs": [
    {
     "data": {
      "text/plain": [
       "deque([0, 5, 7, 10])"
      ]
     },
     "execution_count": 13,
     "metadata": {},
     "output_type": "execute_result"
    }
   ],
   "source": [
    "# Create a deque object with no specific size\n",
    "q2 = deque()\n",
    "q2.append(0)\n",
    "q2.append(5)\n",
    "q2.append(7)\n",
    "q2.append(10)\n",
    "q2"
   ]
  },
  {
   "cell_type": "code",
   "execution_count": 14,
   "metadata": {},
   "outputs": [
    {
     "data": {
      "text/plain": [
       "deque([4, 0, 5, 7, 10])"
      ]
     },
     "execution_count": 14,
     "metadata": {},
     "output_type": "execute_result"
    }
   ],
   "source": [
    "q2.appendleft(4)\n",
    "q2"
   ]
  },
  {
   "cell_type": "code",
   "execution_count": 15,
   "metadata": {},
   "outputs": [
    {
     "data": {
      "text/plain": [
       "10"
      ]
     },
     "execution_count": 15,
     "metadata": {},
     "output_type": "execute_result"
    }
   ],
   "source": [
    "q2.pop()"
   ]
  },
  {
   "cell_type": "code",
   "execution_count": 18,
   "metadata": {},
   "outputs": [
    {
     "data": {
      "text/plain": [
       "4"
      ]
     },
     "execution_count": 18,
     "metadata": {},
     "output_type": "execute_result"
    }
   ],
   "source": [
    "q2.popleft()"
   ]
  },
  {
   "cell_type": "code",
   "execution_count": 19,
   "metadata": {},
   "outputs": [
    {
     "data": {
      "text/plain": [
       "deque([5, 7])"
      ]
     },
     "execution_count": 19,
     "metadata": {},
     "output_type": "execute_result"
    }
   ],
   "source": [
    "q"
   ]
  },
  {
   "attachments": {},
   "cell_type": "markdown",
   "metadata": {},
   "source": [
    "# 1.4 Finding the Largest or Smallest N Items "
   ]
  },
  {
   "attachments": {},
   "cell_type": "markdown",
   "metadata": {},
   "source": [
    "## Problem\n",
    "> You want to find the samllest or largest N elements in a collection "
   ]
  },
  {
   "attachments": {},
   "cell_type": "markdown",
   "metadata": {},
   "source": [
    "This can be implemented using the [heapq](https://docs.python.org/3/library/heapq.html#:~:text=This%20module%20provides%20an%20implementation,to%20any%20of%20its%20children.) module in python"
   ]
  },
  {
   "cell_type": "code",
   "execution_count": 2,
   "metadata": {},
   "outputs": [
    {
     "name": "stdout",
     "output_type": "stream",
     "text": [
      "Largest 5 numbers:\n",
      "[20, 9, 7, 6, 5]\n",
      "Smallest 5 numbers:\n",
      "[0, 0.4, 1.2, 1.25, 4]\n"
     ]
    }
   ],
   "source": [
    "import heapq \n",
    "nums = [4, 7, 0.4, 0, 5, 6, 1.2, 1.25, 9, 4, 20]\n",
    "\n",
    "# largest 5 numbers \n",
    "print('Largest 5 numbers:')\n",
    "print(heapq.nlargest(5, nums))\n",
    "# smallest 5 numbers \n",
    "print('Smallest 5 numbers:')\n",
    "print(heapq.nsmallest(5, nums))"
   ]
  },
  {
   "attachments": {},
   "cell_type": "markdown",
   "metadata": {},
   "source": [
    "`heapq` can equally be used with dictionaries "
   ]
  },
  {
   "cell_type": "code",
   "execution_count": 24,
   "metadata": {},
   "outputs": [
    {
     "name": "stdout",
     "output_type": "stream",
     "text": [
      "[{'name': 'Kwadwo', 'age': 22, 'salary': 1500}, {'name': 'Blessing', 'age': 20, 'salary': 2000}, {'name': 'Abena', 'age': 19, 'salary': 3000}]\n",
      "[{'name': 'Gilbert', 'age': 25, 'salary': 4000}, {'name': 'Abena', 'age': 19, 'salary': 3000}, {'name': 'Blessing', 'age': 20, 'salary': 2000}]\n"
     ]
    }
   ],
   "source": [
    "some_dict = [\n",
    "    {'name':'Blessing', 'age':20, 'salary':2000},\n",
    "    {'name':'Kwadwo', 'age':22, 'salary':1500},\n",
    "    {'name':'Abena', 'age':19, 'salary':3000},\n",
    "    {'name':'Gilbert', 'age':25, 'salary':4000}\n",
    "]\n",
    "\n",
    "print(heapq.nsmallest(3, some_dict, key=lambda s:s['salary']))\n",
    "print(heapq.nlargest(3, some_dict, key=lambda s:s['salary']))"
   ]
  },
  {
   "cell_type": "code",
   "execution_count": 27,
   "metadata": {},
   "outputs": [
    {
     "name": "stdout",
     "output_type": "stream",
     "text": [
      "[0, 1.25, 0.4, 4, 4, 6, 1.2, 7, 9, 5, 20]\n"
     ]
    }
   ],
   "source": [
    "## Other ways to implement heap \n",
    "nums = [4, 7, 0.4, 0, 5, 6, 1.2, 1.25, 9, 4, 20]\n",
    "heap = list(nums)\n",
    "# arranges the numbers in ascending order by default\n",
    "heapq.heapify(heap)\n",
    "print(heap)"
   ]
  },
  {
   "cell_type": "code",
   "execution_count": 28,
   "metadata": {},
   "outputs": [
    {
     "data": {
      "text/plain": [
       "0"
      ]
     },
     "execution_count": 28,
     "metadata": {},
     "output_type": "execute_result"
    }
   ],
   "source": [
    "heap[0]"
   ]
  },
  {
   "attachments": {},
   "cell_type": "markdown",
   "metadata": {},
   "source": [
    "`heapq.heappop(heap)` pops off the first item in the heap which is obviously the smallest element in the heap \n"
   ]
  },
  {
   "cell_type": "code",
   "execution_count": 29,
   "metadata": {},
   "outputs": [
    {
     "data": {
      "text/plain": [
       "0"
      ]
     },
     "execution_count": 29,
     "metadata": {},
     "output_type": "execute_result"
    }
   ],
   "source": [
    "heapq.heappop(heap)"
   ]
  },
  {
   "cell_type": "code",
   "execution_count": 30,
   "metadata": {},
   "outputs": [
    {
     "data": {
      "text/plain": [
       "0.4"
      ]
     },
     "execution_count": 30,
     "metadata": {},
     "output_type": "execute_result"
    }
   ],
   "source": [
    "heapq.heappop(heap)"
   ]
  },
  {
   "cell_type": "code",
   "execution_count": 31,
   "metadata": {},
   "outputs": [
    {
     "data": {
      "text/plain": [
       "1.2"
      ]
     },
     "execution_count": 31,
     "metadata": {},
     "output_type": "execute_result"
    }
   ],
   "source": [
    "heapq.heappop(heap)"
   ]
  },
  {
   "attachments": {},
   "cell_type": "markdown",
   "metadata": {},
   "source": [
    "`CAVEATS`:\n",
    "> `heapq.nsmallest()` or `heapq.nlargest()` is appropriate when are using it to find small number of <br>\n",
    "items from the heap \n",
    "- If you are trying to find one largest or smallest element it's advisable to use `max()` or `min()`\n",
    "- If N(the number of elements you are trying to fetch from the heap) is about the same size of the heap <br>\n",
    "use sorted(items)[:N] or sorted(items[:-N])"
   ]
  },
  {
   "attachments": {},
   "cell_type": "markdown",
   "metadata": {},
   "source": [
    "# 1.5 Implementing a Priority Queue"
   ]
  },
  {
   "attachments": {},
   "cell_type": "markdown",
   "metadata": {},
   "source": [
    "## Problem\n",
    "\n",
    ">You want to implement a queue that sorts items based on a given priority and then returns the item with the highest priority whenever there is a pop operation "
   ]
  },
  {
   "cell_type": "code",
   "execution_count": 25,
   "metadata": {},
   "outputs": [],
   "source": [
    "class PriorityQueue(object):\n",
    "    \n",
    "    def __init__(self):\n",
    "        self._index = 0\n",
    "        self._queue = []\n",
    "        \n",
    "    def push(self, item, priority):\n",
    "        heapq.heappush(self._queue, (-priority, self._index, item))\n",
    "        self._index +=1 \n",
    "    \n",
    "    def pop(self):\n",
    "        return heapq.heappop(self._queue)[-1]\n",
    "    \n",
    "class Item(object):\n",
    "    \n",
    "    def __init__(self, name):\n",
    "        self.name = name \n",
    "    \n",
    "    def __repr__(self):\n",
    "        return 'Item({!r})'.format(self.name)\n",
    "    \n",
    "pq = PriorityQueue()\n",
    "pq.push(Item(4), 1)\n",
    "pq.push(Item(3), 2)\n",
    "pq.push(Item(5), 4)\n",
    "pq.push(Item(0), 3)\n",
    "pq.push(Item(7), 3)"
   ]
  },
  {
   "cell_type": "code",
   "execution_count": 26,
   "metadata": {},
   "outputs": [
    {
     "data": {
      "text/plain": [
       "[(-4, 2, Item(5)),\n",
       " (-3, 3, Item(0)),\n",
       " (-2, 1, Item(3)),\n",
       " (-1, 0, Item(4)),\n",
       " (-3, 4, Item(7))]"
      ]
     },
     "execution_count": 26,
     "metadata": {},
     "output_type": "execute_result"
    }
   ],
   "source": [
    "pq._queue"
   ]
  },
  {
   "cell_type": "code",
   "execution_count": 24,
   "metadata": {},
   "outputs": [
    {
     "data": {
      "text/plain": [
       "Item(5)"
      ]
     },
     "execution_count": 24,
     "metadata": {},
     "output_type": "execute_result"
    },
    {
     "data": {
      "text/plain": [
       "Item(0)"
      ]
     },
     "execution_count": 24,
     "metadata": {},
     "output_type": "execute_result"
    },
    {
     "data": {
      "text/plain": [
       "Item(7)"
      ]
     },
     "execution_count": 24,
     "metadata": {},
     "output_type": "execute_result"
    },
    {
     "data": {
      "text/plain": [
       "Item(3)"
      ]
     },
     "execution_count": 24,
     "metadata": {},
     "output_type": "execute_result"
    },
    {
     "data": {
      "text/plain": [
       "Item(4)"
      ]
     },
     "execution_count": 24,
     "metadata": {},
     "output_type": "execute_result"
    }
   ],
   "source": [
    "pq.pop()\n",
    "pq.pop()\n",
    "pq.pop()\n",
    "pq.pop()\n",
    "pq.pop()"
   ]
  },
  {
   "attachments": {},
   "cell_type": "markdown",
   "metadata": {},
   "source": [
    "### Intuition behind the Priority Queue Implementation \n",
    "> we initialize `self._index = 0` to indicate the starting point <br>\n",
    ">\n",
    "> `self._queue` represents our priority queue <br>\n",
    ">\n",
    "> `push(self, item, priority)` - this applies `heapq.heappush(self._queue, (-priority, index, item))` to add elements to our queue\n",
    "> - `-priority` argument makes sure that the item with the highest priority will be at the beginning of the queue since heaps automaticallly sorts items in ascending order\n",
    ">\n",
    "> - we increased the index at every push operation so that even if some items have the same priority, the `index` argument will make the item which was pushed first also be popped out first \n"
   ]
  },
  {
   "attachments": {},
   "cell_type": "markdown",
   "metadata": {},
   "source": [
    ">As illustrated above, the item with the highest priority(i.e. 4) is 5 so it gets popped out first. <br>\n",
    ">Though Item 0 and Item 7 have the same priority, Item 0 gets popped out first because it was <br>\n",
    ">pushed into the queue first. \n",
    ">\n",
    ">\n",
    "> `NOTE` : Both push and pop operations in a heap have `O(logN)` where N is the number of items in the heap. "
   ]
  },
  {
   "attachments": {},
   "cell_type": "markdown",
   "metadata": {},
   "source": [
    "# 1.6. Mapping Keys to Multiple Values in a Dictionary"
   ]
  },
  {
   "attachments": {},
   "cell_type": "markdown",
   "metadata": {},
   "source": [
    "## Problem\n",
    "> You want to create a dictionary whose keys have more than one value"
   ]
  },
  {
   "attachments": {},
   "cell_type": "markdown",
   "metadata": {},
   "source": [
    "## Example "
   ]
  },
  {
   "attachments": {},
   "cell_type": "markdown",
   "metadata": {},
   "source": [
    "### Method 1"
   ]
  },
  {
   "cell_type": "code",
   "execution_count": 39,
   "metadata": {},
   "outputs": [
    {
     "data": {
      "text/plain": [
       "{'a': [1, 2, 0], 'b': [3, 6, 7]}"
      ]
     },
     "execution_count": 39,
     "metadata": {},
     "output_type": "execute_result"
    },
    {
     "data": {
      "text/plain": [
       "{'c': {0, 1, 3}, 'd': {1, 2, 3}}"
      ]
     },
     "execution_count": 39,
     "metadata": {},
     "output_type": "execute_result"
    }
   ],
   "source": [
    "# Value is a list\n",
    "my_dict = {\n",
    "    'a' : [1, 2, 0],\n",
    "    'b' : [3, 6, 7]\n",
    "}\n",
    "\n",
    "# Value is a set\n",
    "dict_2 = {\n",
    "    'c' : {1, 0, 3},\n",
    "    'd' : {1, 2, 3}\n",
    "}\n",
    "\n",
    "my_dict\n",
    "dict_2"
   ]
  },
  {
   "attachments": {},
   "cell_type": "markdown",
   "metadata": {},
   "source": [
    "If you are concerned about the order of the values you should use `list` but if you don't care about the order and duplicates you can use a `set` as your value"
   ]
  },
  {
   "attachments": {},
   "cell_type": "markdown",
   "metadata": {},
   "source": [
    "### Method 2 \n",
    "> One can also use `defaultdict` from `collections` module to achieve this "
   ]
  },
  {
   "cell_type": "code",
   "execution_count": 40,
   "metadata": {},
   "outputs": [],
   "source": [
    "from collections import defaultdict"
   ]
  },
  {
   "cell_type": "code",
   "execution_count": 42,
   "metadata": {},
   "outputs": [
    {
     "data": {
      "text/plain": [
       "defaultdict(list, {'a': [1, 2, 0], 'b': [3, 6, 7]})"
      ]
     },
     "execution_count": 42,
     "metadata": {},
     "output_type": "execute_result"
    }
   ],
   "source": [
    "# Initialize your dictionary\n",
    "\n",
    "# Using list as our value\n",
    "my_dict = defaultdict(list)\n",
    "# Adding our keys and values \n",
    "# key 'a\n",
    "my_dict['a'].append(1)\n",
    "my_dict['a'].append(2)\n",
    "my_dict['a'].append(0)\n",
    "# key 'b'\n",
    "my_dict['b'].append(3)\n",
    "my_dict['b'].append(6)\n",
    "my_dict['b'].append(7)\n",
    "\n",
    "my_dict"
   ]
  },
  {
   "cell_type": "code",
   "execution_count": 44,
   "metadata": {},
   "outputs": [
    {
     "data": {
      "text/plain": [
       "defaultdict(set, {'c': {0, 1, 3}, 'd': {1, 2, 3}})"
      ]
     },
     "execution_count": 44,
     "metadata": {},
     "output_type": "execute_result"
    }
   ],
   "source": [
    "# Initialize your dictionary\n",
    "\n",
    "# Using set as our value\n",
    "dict_2 = defaultdict(set)\n",
    "# Adding our keys and values \n",
    "# key 'a\n",
    "dict_2['c'].add(1)\n",
    "dict_2['c'].add(0)\n",
    "dict_2['c'].add(3)\n",
    "# key 'b'\n",
    "dict_2['d'].add(1)\n",
    "dict_2['d'].add(2)\n",
    "dict_2['d'].add(3)\n",
    "\n",
    "dict_2"
   ]
  },
  {
   "attachments": {},
   "cell_type": "markdown",
   "metadata": {},
   "source": [
    "# 1.7. Keeping Dictionaries in Order "
   ]
  },
  {
   "attachments": {},
   "cell_type": "markdown",
   "metadata": {},
   "source": [
    "## Problem\n",
    ">You want to create a dictionary and control the order of items during iteration or serialization "
   ]
  },
  {
   "cell_type": "code",
   "execution_count": 47,
   "metadata": {},
   "outputs": [
    {
     "name": "stdout",
     "output_type": "stream",
     "text": [
      "Name Blessing\n",
      "Age 20\n",
      "Gender Male\n"
     ]
    }
   ],
   "source": [
    "from collections import OrderedDict\n",
    "\n",
    "d = OrderedDict()\n",
    "d['Name'] = 'Blessing'\n",
    "d['Age'] = 20\n",
    "d['Gender'] = 'Male'\n",
    "\n",
    "for key in d:\n",
    "    print(key, d[key])"
   ]
  },
  {
   "attachments": {},
   "cell_type": "markdown",
   "metadata": {},
   "source": [
    "This is best when you want to serialize or encode your data into a different format and use it later <br>\n",
    "\n",
    "### Example :"
   ]
  },
  {
   "cell_type": "code",
   "execution_count": 48,
   "metadata": {},
   "outputs": [
    {
     "data": {
      "text/plain": [
       "'{\"Name\": \"Blessing\", \"Age\": 20, \"Gender\": \"Male\"}'"
      ]
     },
     "execution_count": 48,
     "metadata": {},
     "output_type": "execute_result"
    }
   ],
   "source": [
    "import json \n",
    "json.dumps(d)"
   ]
  },
  {
   "attachments": {},
   "cell_type": "markdown",
   "metadata": {},
   "source": [
    ">**CAVEAT** : An `OrderedDict()` is twice as large as a `normal dict` because it creates an extra linked list so you have to take into consideration the amount of data that you will use. "
   ]
  },
  {
   "attachments": {},
   "cell_type": "markdown",
   "metadata": {},
   "source": [
    "# 1.8. Calculating with Dictionaries"
   ]
  },
  {
   "attachments": {},
   "cell_type": "markdown",
   "metadata": {},
   "source": [
    "## Problem \n",
    "> You want to perform operations such as finding the minimum value, maximum value or sort the values in a dictionary "
   ]
  },
  {
   "cell_type": "code",
   "execution_count": 2,
   "metadata": {},
   "outputs": [],
   "source": [
    "ages = {\n",
    "    'Blessing' : 12,\n",
    "    'Kofi' : 23, \n",
    "    'Abena' : 22,\n",
    "    'Ama' : 30,\n",
    "    'Akosua' : 28\n",
    "}"
   ]
  },
  {
   "attachments": {},
   "cell_type": "markdown",
   "metadata": {},
   "source": [
    "Suppose we want to find the maximum and minimum age within our dictionary :"
   ]
  },
  {
   "cell_type": "code",
   "execution_count": 4,
   "metadata": {},
   "outputs": [
    {
     "name": "stdout",
     "output_type": "stream",
     "text": [
      "(30, 'Ama')\n",
      "(12, 'Blessing')\n"
     ]
    }
   ],
   "source": [
    "# Finding the maximum age \n",
    "print(max(zip(ages.values(), ages.keys())))\n",
    "\n",
    "# Finding the minimum age \n",
    "print(min(zip(ages.values(), ages.keys())))"
   ]
  },
  {
   "attachments": {},
   "cell_type": "markdown",
   "metadata": {},
   "source": [
    "If we want to sort we can also achieve that as follows : "
   ]
  },
  {
   "cell_type": "code",
   "execution_count": 5,
   "metadata": {},
   "outputs": [
    {
     "name": "stdout",
     "output_type": "stream",
     "text": [
      "[(12, 'Blessing'), (22, 'Abena'), (23, 'Kofi'), (28, 'Akosua'), (30, 'Ama')]\n"
     ]
    }
   ],
   "source": [
    "# Sorting \n",
    "print(sorted(zip(ages.values(), ages.keys())))"
   ]
  },
  {
   "attachments": {},
   "cell_type": "markdown",
   "metadata": {},
   "source": [
    "Trying to directly aggregate our dictionary using max/min will just consider only the `keys`. <br>\n",
    "We want to know the `keys` that correspond to the highest and lowest value in our dictionary <br>\n",
    "\n",
    "We want to return `Ama` which will represent the key with the highest value or `Blessing` which also represents the key with the lowest value "
   ]
  },
  {
   "cell_type": "code",
   "execution_count": 7,
   "metadata": {},
   "outputs": [
    {
     "name": "stdout",
     "output_type": "stream",
     "text": [
      "Kofi\n",
      "Abena\n"
     ]
    }
   ],
   "source": [
    "print(max(ages))\n",
    "print(min(ages))"
   ]
  },
  {
   "attachments": {},
   "cell_type": "markdown",
   "metadata": {},
   "source": [
    "This is how we can achieve it : "
   ]
  },
  {
   "cell_type": "code",
   "execution_count": 9,
   "metadata": {},
   "outputs": [
    {
     "name": "stdout",
     "output_type": "stream",
     "text": [
      "Ama\n"
     ]
    }
   ],
   "source": [
    "# Getting the maximum age \n",
    "print(max(ages, key=lambda s : ages[s]))"
   ]
  },
  {
   "cell_type": "code",
   "execution_count": 10,
   "metadata": {},
   "outputs": [
    {
     "name": "stdout",
     "output_type": "stream",
     "text": [
      "Blessing\n"
     ]
    }
   ],
   "source": [
    "# Getting the maximum age \n",
    "print(min(ages, key=lambda s : ages[s]))"
   ]
  },
  {
   "attachments": {},
   "cell_type": "markdown",
   "metadata": {},
   "source": [
    ">In instances were the dictionary has the same values and different keys, aggregation (min/max operation) will be based on the keys\n",
    "\n",
    "### Example : "
   ]
  },
  {
   "cell_type": "code",
   "execution_count": 13,
   "metadata": {},
   "outputs": [
    {
     "name": "stdout",
     "output_type": "stream",
     "text": [
      "(1, 'AAA')\n",
      "(2, 'B')\n"
     ]
    }
   ],
   "source": [
    "some_dict = {\n",
    "    'AAA' : 1,\n",
    "    'B' : 2,\n",
    "    'AAB' : 1\n",
    "}\n",
    "\n",
    "# Printing the minimum\n",
    "print(min(zip(some_dict.values(), some_dict.keys())))\n",
    "# Printing the maximum \n",
    "print(max(zip(some_dict.values(), some_dict.keys())))"
   ]
  },
  {
   "attachments": {},
   "cell_type": "markdown",
   "metadata": {},
   "source": [
    "# 1.9. Finding Commonalities in Two Dictionaries "
   ]
  },
  {
   "attachments": {},
   "cell_type": "markdown",
   "metadata": {},
   "source": [
    "## Problem\n",
    "> Suppose you want to compare two dictionaries and perform some operations "
   ]
  },
  {
   "cell_type": "code",
   "execution_count": 17,
   "metadata": {},
   "outputs": [],
   "source": [
    "a = {\n",
    "    'x' : 2,\n",
    "    'y' : 3,\n",
    "    'z' : 8\n",
    "}\n",
    "\n",
    "b = {\n",
    "    'f' : 6,\n",
    "    'h' : 3,\n",
    "    'x' : 2\n",
    "}"
   ]
  },
  {
   "cell_type": "code",
   "execution_count": 18,
   "metadata": {},
   "outputs": [
    {
     "data": {
      "text/plain": [
       "{'x'}"
      ]
     },
     "execution_count": 18,
     "metadata": {},
     "output_type": "execute_result"
    }
   ],
   "source": [
    "# Compare the keys that are commom in both dictionaries \n",
    "a.keys() & b.keys()"
   ]
  },
  {
   "cell_type": "code",
   "execution_count": 19,
   "metadata": {},
   "outputs": [
    {
     "data": {
      "text/plain": [
       "{('x', 2)}"
      ]
     },
     "execution_count": 19,
     "metadata": {},
     "output_type": "execute_result"
    }
   ],
   "source": [
    "# Compare items that are common \n",
    "a.items() & b.items()"
   ]
  },
  {
   "cell_type": "code",
   "execution_count": 20,
   "metadata": {},
   "outputs": [
    {
     "data": {
      "text/plain": [
       "{'y', 'z'}"
      ]
     },
     "execution_count": 20,
     "metadata": {},
     "output_type": "execute_result"
    }
   ],
   "source": [
    "# Check keys that are in a but not b\n",
    "a.keys() - b.keys()"
   ]
  },
  {
   "cell_type": "code",
   "execution_count": 21,
   "metadata": {},
   "outputs": [
    {
     "data": {
      "text/plain": [
       "{('y', 3), ('z', 8)}"
      ]
     },
     "execution_count": 21,
     "metadata": {},
     "output_type": "execute_result"
    }
   ],
   "source": [
    "# Check items that are in a but not b\n",
    "a.items() - b.items()"
   ]
  },
  {
   "cell_type": "code",
   "execution_count": 22,
   "metadata": {},
   "outputs": [
    {
     "data": {
      "text/plain": [
       "{'z': 8}"
      ]
     },
     "execution_count": 22,
     "metadata": {},
     "output_type": "execute_result"
    }
   ],
   "source": [
    "# Making a dictionary which some keys removed using dictionary comprehension \n",
    "{key:a[key] for key in a.keys() - {'x', 'y'}}\n"
   ]
  },
  {
   "attachments": {},
   "cell_type": "markdown",
   "metadata": {},
   "source": [
    "# 1.10. Removing Duplicates from a Sequence while maintaining order "
   ]
  },
  {
   "attachments": {},
   "cell_type": "markdown",
   "metadata": {},
   "source": [
    "## Problem \n",
    "> You want to make sure the order of a sequence is preserved after you remove duplicates "
   ]
  },
  {
   "cell_type": "code",
   "execution_count": 46,
   "metadata": {},
   "outputs": [
    {
     "data": {
      "text/plain": [
       "[1, 2, 4, 5, 6, 7]"
      ]
     },
     "execution_count": 46,
     "metadata": {},
     "output_type": "execute_result"
    }
   ],
   "source": [
    "def dedupe(items):\n",
    "    s = set()\n",
    "    for item in items:\n",
    "        if item not in s:\n",
    "            yield item \n",
    "            s.add(item)\n",
    "\n",
    "a_list = [1, 2, 4, 2, 1, 4, 5, 6, 7, 5]\n",
    "list(dedupe(a_list))"
   ]
  },
  {
   "attachments": {},
   "cell_type": "markdown",
   "metadata": {},
   "source": [
    ">The above method will only work if you have a hashable object like a list "
   ]
  },
  {
   "cell_type": "code",
   "execution_count": 47,
   "metadata": {},
   "outputs": [
    {
     "ename": "TypeError",
     "evalue": "unhashable type: 'dict'",
     "output_type": "error",
     "traceback": [
      "\u001b[1;31m---------------------------------------------------------------------------\u001b[0m",
      "\u001b[1;31mTypeError\u001b[0m                                 Traceback (most recent call last)",
      "\u001b[1;32mc:\\Users\\Blessing\\Documents\\Python-Practice\\Data-Structures-And-Algorithms\\Data-Structures-And-Algorithms.ipynb Cell 92\u001b[0m in \u001b[0;36m<cell line: 2>\u001b[1;34m()\u001b[0m\n\u001b[0;32m      <a href='vscode-notebook-cell:/c%3A/Users/Blessing/Documents/Python-Practice/Data-Structures-And-Algorithms/Data-Structures-And-Algorithms.ipynb#Y201sZmlsZQ%3D%3D?line=0'>1</a>\u001b[0m non_hash \u001b[39m=\u001b[39m [{\u001b[39m'\u001b[39m\u001b[39mx\u001b[39m\u001b[39m'\u001b[39m:\u001b[39m1\u001b[39m, \u001b[39m'\u001b[39m\u001b[39my\u001b[39m\u001b[39m'\u001b[39m:\u001b[39m2\u001b[39m}, {\u001b[39m'\u001b[39m\u001b[39mx\u001b[39m\u001b[39m'\u001b[39m:\u001b[39m1\u001b[39m, \u001b[39m'\u001b[39m\u001b[39my\u001b[39m\u001b[39m'\u001b[39m:\u001b[39m1\u001b[39m}, {\u001b[39m'\u001b[39m\u001b[39mx\u001b[39m\u001b[39m'\u001b[39m:\u001b[39m1\u001b[39m, \u001b[39m'\u001b[39m\u001b[39my\u001b[39m\u001b[39m'\u001b[39m:\u001b[39m2\u001b[39m}]\n\u001b[1;32m----> <a href='vscode-notebook-cell:/c%3A/Users/Blessing/Documents/Python-Practice/Data-Structures-And-Algorithms/Data-Structures-And-Algorithms.ipynb#Y201sZmlsZQ%3D%3D?line=1'>2</a>\u001b[0m \u001b[39mlist\u001b[39;49m(dedupe(non_hash))\n",
      "\u001b[1;32mc:\\Users\\Blessing\\Documents\\Python-Practice\\Data-Structures-And-Algorithms\\Data-Structures-And-Algorithms.ipynb Cell 92\u001b[0m in \u001b[0;36mdedupe\u001b[1;34m(items)\u001b[0m\n\u001b[0;32m      <a href='vscode-notebook-cell:/c%3A/Users/Blessing/Documents/Python-Practice/Data-Structures-And-Algorithms/Data-Structures-And-Algorithms.ipynb#Y201sZmlsZQ%3D%3D?line=1'>2</a>\u001b[0m s \u001b[39m=\u001b[39m \u001b[39mset\u001b[39m()\n\u001b[0;32m      <a href='vscode-notebook-cell:/c%3A/Users/Blessing/Documents/Python-Practice/Data-Structures-And-Algorithms/Data-Structures-And-Algorithms.ipynb#Y201sZmlsZQ%3D%3D?line=2'>3</a>\u001b[0m \u001b[39mfor\u001b[39;00m item \u001b[39min\u001b[39;00m items:\n\u001b[1;32m----> <a href='vscode-notebook-cell:/c%3A/Users/Blessing/Documents/Python-Practice/Data-Structures-And-Algorithms/Data-Structures-And-Algorithms.ipynb#Y201sZmlsZQ%3D%3D?line=3'>4</a>\u001b[0m     \u001b[39mif\u001b[39;00m item \u001b[39mnot\u001b[39;49;00m \u001b[39min\u001b[39;49;00m s:\n\u001b[0;32m      <a href='vscode-notebook-cell:/c%3A/Users/Blessing/Documents/Python-Practice/Data-Structures-And-Algorithms/Data-Structures-And-Algorithms.ipynb#Y201sZmlsZQ%3D%3D?line=4'>5</a>\u001b[0m         \u001b[39myield\u001b[39;00m item \n\u001b[0;32m      <a href='vscode-notebook-cell:/c%3A/Users/Blessing/Documents/Python-Practice/Data-Structures-And-Algorithms/Data-Structures-And-Algorithms.ipynb#Y201sZmlsZQ%3D%3D?line=5'>6</a>\u001b[0m         s\u001b[39m.\u001b[39madd(item)\n",
      "\u001b[1;31mTypeError\u001b[0m: unhashable type: 'dict'"
     ]
    }
   ],
   "source": [
    "non_hash = [{'x':1, 'y':2}, {'x':1, 'y':1}, {'x':1, 'y':2}]\n",
    "list(dedupe(non_hash))"
   ]
  },
  {
   "attachments": {},
   "cell_type": "markdown",
   "metadata": {},
   "source": [
    ">The above generated an error because we used a non-hashable object i.e. dict\n"
   ]
  },
  {
   "attachments": {},
   "cell_type": "markdown",
   "metadata": {},
   "source": [
    ">Generalizing the code to include non-hash objects :"
   ]
  },
  {
   "cell_type": "code",
   "execution_count": 50,
   "metadata": {},
   "outputs": [
    {
     "data": {
      "text/plain": [
       "[{'x': 1, 'y': 2}, {'x': 1, 'y': 1}]"
      ]
     },
     "execution_count": 50,
     "metadata": {},
     "output_type": "execute_result"
    }
   ],
   "source": [
    "def dedupe(items, key=None):\n",
    "    s = set()\n",
    "    for item in items:\n",
    "        val = item if key is None else key(item)\n",
    "        if val not in s:\n",
    "            yield item\n",
    "            s.add(val)\n",
    "\n",
    "list(dedupe(non_hash, key=lambda a : (a['x'], a['y'])))"
   ]
  },
  {
   "attachments": {},
   "cell_type": "markdown",
   "metadata": {},
   "source": [
    "# 1.11. Naming a Slice"
   ]
  },
  {
   "attachments": {},
   "cell_type": "markdown",
   "metadata": {},
   "source": [
    "## Problem \n",
    ">You want to have a flexible way to slice your data than going the hardcode especially when you have a very bulky code"
   ]
  },
  {
   "attachments": {},
   "cell_type": "markdown",
   "metadata": {},
   "source": [
    "### Example:"
   ]
  },
  {
   "cell_type": "code",
   "execution_count": 3,
   "metadata": {},
   "outputs": [
    {
     "data": {
      "text/plain": [
       "[0, 1, 2, 3, 4, 5, 6, 7, 8, 9]"
      ]
     },
     "execution_count": 3,
     "metadata": {},
     "output_type": "execute_result"
    },
    {
     "data": {
      "text/plain": [
       "[2, 3, 4, 5, 6, 7]"
      ]
     },
     "execution_count": 3,
     "metadata": {},
     "output_type": "execute_result"
    }
   ],
   "source": [
    "some_list = list(range(10))\n",
    "some_list\n",
    "# Access elements 2 - 7\n",
    "some_list[2:8]"
   ]
  },
  {
   "attachments": {},
   "cell_type": "markdown",
   "metadata": {},
   "source": [
    "Sometimes we might want to reuse our slice rather than hardcoding it everytime"
   ]
  },
  {
   "cell_type": "code",
   "execution_count": 4,
   "metadata": {},
   "outputs": [
    {
     "data": {
      "text/plain": [
       "[2, 3, 4, 5, 6, 7]"
      ]
     },
     "execution_count": 4,
     "metadata": {},
     "output_type": "execute_result"
    }
   ],
   "source": [
    "# Create a slice\n",
    "a = slice(2, 8)\n",
    "# Accessing the elements using the slice \n",
    "some_list[a]"
   ]
  },
  {
   "cell_type": "code",
   "execution_count": 9,
   "metadata": {},
   "outputs": [
    {
     "data": {
      "text/plain": [
       "[0, 1, 0, 1, 2, 3, 4, 5, 8, 9]"
      ]
     },
     "execution_count": 9,
     "metadata": {},
     "output_type": "execute_result"
    }
   ],
   "source": [
    "some_list[a] = list(range(6))\n",
    "some_list"
   ]
  },
  {
   "cell_type": "code",
   "execution_count": 10,
   "metadata": {},
   "outputs": [],
   "source": [
    "b = slice(2, 20, 4)"
   ]
  },
  {
   "attachments": {},
   "cell_type": "markdown",
   "metadata": {},
   "source": [
    "We can access the `start`, `stop` , and `step` of the slice"
   ]
  },
  {
   "cell_type": "code",
   "execution_count": 11,
   "metadata": {},
   "outputs": [
    {
     "data": {
      "text/plain": [
       "2"
      ]
     },
     "execution_count": 11,
     "metadata": {},
     "output_type": "execute_result"
    },
    {
     "data": {
      "text/plain": [
       "20"
      ]
     },
     "execution_count": 11,
     "metadata": {},
     "output_type": "execute_result"
    },
    {
     "data": {
      "text/plain": [
       "4"
      ]
     },
     "execution_count": 11,
     "metadata": {},
     "output_type": "execute_result"
    }
   ],
   "source": [
    "b.start\n",
    "b.stop\n",
    "b.step"
   ]
  },
  {
   "attachments": {},
   "cell_type": "markdown",
   "metadata": {},
   "source": [
    "You can also map a slice to some sequence of words of specifc size\n",
    "\n",
    "### Example: "
   ]
  },
  {
   "cell_type": "code",
   "execution_count": 13,
   "metadata": {},
   "outputs": [
    {
     "data": {
      "text/plain": [
       "(2, 8, 1)"
      ]
     },
     "execution_count": 13,
     "metadata": {},
     "output_type": "execute_result"
    },
    {
     "data": {
      "text/plain": [
       "(2, 13, 4)"
      ]
     },
     "execution_count": 13,
     "metadata": {},
     "output_type": "execute_result"
    }
   ],
   "source": [
    "some_string = \"Blessing Kyem\"\n",
    "a.indices(len(some_string))\n",
    "b.indices(len(some_string))"
   ]
  },
  {
   "cell_type": "code",
   "execution_count": 16,
   "metadata": {},
   "outputs": [
    {
     "name": "stdout",
     "output_type": "stream",
     "text": [
      "e\n",
      "n\n",
      "y\n"
     ]
    }
   ],
   "source": [
    "for i in range(*b.indices(len(some_string))):\n",
    "    print(some_string[i])"
   ]
  },
  {
   "attachments": {},
   "cell_type": "markdown",
   "metadata": {},
   "source": [
    "# 1.12. Determining the Most Frequently Occuring Items in a Sequence "
   ]
  },
  {
   "attachments": {},
   "cell_type": "markdown",
   "metadata": {},
   "source": [
    "## Problem \n",
    "> You want to determine the most frequent items in a sequence of items "
   ]
  },
  {
   "attachments": {},
   "cell_type": "markdown",
   "metadata": {},
   "source": [
    "`Counter` function in the `collections` module can be used to achieve this task "
   ]
  },
  {
   "cell_type": "code",
   "execution_count": 18,
   "metadata": {},
   "outputs": [
    {
     "data": {
      "text/plain": [
       "[(4, 4), (2, 3)]"
      ]
     },
     "execution_count": 18,
     "metadata": {},
     "output_type": "execute_result"
    }
   ],
   "source": [
    "from collections import Counter \n",
    "my_list = [\n",
    "    1, 2, 3, 4, 1, 6, 2, 7, 3, 4, 4, 5, 0, 2, 8, 4, 7, 8, 9, 6\n",
    "]\n",
    "\n",
    "counter = Counter(my_list)\n",
    "top_two = counter.most_common(2)\n",
    "top_two"
   ]
  },
  {
   "attachments": {},
   "cell_type": "markdown",
   "metadata": {},
   "source": [
    "`Counter` is like a dictionary that maps the items to the number of occurrences\n",
    "\n",
    "### Example: "
   ]
  },
  {
   "cell_type": "code",
   "execution_count": 22,
   "metadata": {},
   "outputs": [
    {
     "data": {
      "text/plain": [
       "2"
      ]
     },
     "execution_count": 22,
     "metadata": {},
     "output_type": "execute_result"
    },
    {
     "data": {
      "text/plain": [
       "1"
      ]
     },
     "execution_count": 22,
     "metadata": {},
     "output_type": "execute_result"
    }
   ],
   "source": [
    "# Finding the number of occurences of 1\n",
    "counter[1]\n",
    "# Finding the number of occurences of 5\n",
    "counter[5]"
   ]
  },
  {
   "attachments": {},
   "cell_type": "markdown",
   "metadata": {},
   "source": [
    "> Suppose we have a different list of words which has the same kind of items in our Counter we increase our counter as below:\n"
   ]
  },
  {
   "cell_type": "code",
   "execution_count": 23,
   "metadata": {},
   "outputs": [],
   "source": [
    "new_list = [1, 2, 3, 6, 7, 9, 9, 2]\n",
    "\n",
    "for item in new_list:\n",
    "    counter[item] += 1"
   ]
  },
  {
   "cell_type": "code",
   "execution_count": 25,
   "metadata": {},
   "outputs": [
    {
     "data": {
      "text/plain": [
       "3"
      ]
     },
     "execution_count": 25,
     "metadata": {},
     "output_type": "execute_result"
    },
    {
     "data": {
      "text/plain": [
       "3"
      ]
     },
     "execution_count": 25,
     "metadata": {},
     "output_type": "execute_result"
    }
   ],
   "source": [
    "counter[1]\n",
    "counter[7]"
   ]
  },
  {
   "attachments": {},
   "cell_type": "markdown",
   "metadata": {},
   "source": [
    ">We can also use the update function to achieve the same thing"
   ]
  },
  {
   "cell_type": "code",
   "execution_count": 27,
   "metadata": {},
   "outputs": [
    {
     "data": {
      "text/plain": [
       "Counter({'a': 4, 'b': 1, 'c': 2, 'd': 1, 'f': 1})"
      ]
     },
     "execution_count": 27,
     "metadata": {},
     "output_type": "execute_result"
    }
   ],
   "source": [
    "# let's create a new counter \n",
    "lett = ['a', 'b', 'c', 'd', 'a']\n",
    "counter_new = Counter(lett)\n",
    "# Update our counter\n",
    "lett2 = ['a', 'c', 'a', 'f']\n",
    "counter_new.update(lett2)\n",
    "counter_new"
   ]
  },
  {
   "attachments": {},
   "cell_type": "markdown",
   "metadata": {},
   "source": [
    "> We can even make mathematical operations on a Counter "
   ]
  },
  {
   "cell_type": "code",
   "execution_count": 29,
   "metadata": {},
   "outputs": [
    {
     "data": {
      "text/plain": [
       "Counter({'a': 4, 'b': 1, 'c': 2, 'd': 1, 'f': 1})"
      ]
     },
     "execution_count": 29,
     "metadata": {},
     "output_type": "execute_result"
    },
    {
     "data": {
      "text/plain": [
       "Counter({'b': 1, 'd': 1})"
      ]
     },
     "execution_count": 29,
     "metadata": {},
     "output_type": "execute_result"
    }
   ],
   "source": [
    "x = Counter(lett)\n",
    "y = Counter(lett2)\n",
    "\n",
    "# Addition\n",
    "x + y\n",
    "\n",
    "# Subtraction\n",
    "x - y"
   ]
  },
  {
   "attachments": {},
   "cell_type": "markdown",
   "metadata": {},
   "source": [
    "# 1.13. Sorting a List of Dictionaries by a Common Key"
   ]
  },
  {
   "attachments": {},
   "cell_type": "markdown",
   "metadata": {},
   "source": [
    "## Problem\n",
    "> You want to sort a dictionary based on some keys "
   ]
  },
  {
   "cell_type": "code",
   "execution_count": 30,
   "metadata": {},
   "outputs": [],
   "source": [
    "# Let's create some list of dictionaries\n",
    "details = [\n",
    "    {'first': 'Gilbert', 'Last': 'Kyem', 'Age':24, 'Salary':2000},\n",
    "    {'first': 'Elvis', 'Last': 'Frimps', 'Age':20, 'Salary':2400},\n",
    "    {'first': 'Kelvin', 'Last': 'Agyei', 'Age':27, 'Salary':2600},\n",
    "    {'first': 'Gilbert', 'Last': 'Kyere', 'Age':23, 'Salary':2100},\n",
    "]"
   ]
  },
  {
   "cell_type": "code",
   "execution_count": 33,
   "metadata": {},
   "outputs": [
    {
     "name": "stdout",
     "output_type": "stream",
     "text": [
      "[{'Age': 20, 'Last': 'Frimps', 'Salary': 2400, 'first': 'Elvis'},\n",
      " {'Age': 24, 'Last': 'Kyem', 'Salary': 2000, 'first': 'Gilbert'},\n",
      " {'Age': 23, 'Last': 'Kyere', 'Salary': 2100, 'first': 'Gilbert'},\n",
      " {'Age': 27, 'Last': 'Agyei', 'Salary': 2600, 'first': 'Kelvin'}]\n"
     ]
    }
   ],
   "source": [
    "from pprint import pprint\n",
    "\n",
    "# Sorting by the first name \n",
    "pprint(sorted(details, key=lambda k: k['first']))"
   ]
  },
  {
   "cell_type": "code",
   "execution_count": 35,
   "metadata": {},
   "outputs": [
    {
     "name": "stdout",
     "output_type": "stream",
     "text": [
      "[{'Age': 20, 'Last': 'Frimps', 'Salary': 2400, 'first': 'Elvis'},\n",
      " {'Age': 24, 'Last': 'Kyem', 'Salary': 2000, 'first': 'Gilbert'},\n",
      " {'Age': 23, 'Last': 'Kyere', 'Salary': 2100, 'first': 'Gilbert'},\n",
      " {'Age': 27, 'Last': 'Agyei', 'Salary': 2600, 'first': 'Kelvin'}]\n"
     ]
    }
   ],
   "source": [
    "# Sorting by both the first and last name \n",
    "pprint(sorted(details, key=lambda k: (k['first'], k['Last'])))"
   ]
  },
  {
   "attachments": {},
   "cell_type": "markdown",
   "metadata": {},
   "source": [
    "We can achieve using `itemgetter` function from `operator` module\n",
    "\n",
    "`itemgetter` is faster than using the lambda operations"
   ]
  },
  {
   "cell_type": "code",
   "execution_count": 44,
   "metadata": {},
   "outputs": [
    {
     "name": "stdout",
     "output_type": "stream",
     "text": [
      "[{'Age': 20, 'Last': 'Frimps', 'Salary': 2400, 'first': 'Elvis'},\n",
      " {'Age': 24, 'Last': 'Kyem', 'Salary': 2000, 'first': 'Gilbert'},\n",
      " {'Age': 23, 'Last': 'Kyere', 'Salary': 2100, 'first': 'Gilbert'},\n",
      " {'Age': 27, 'Last': 'Agyei', 'Salary': 2600, 'first': 'Kelvin'}]\n"
     ]
    }
   ],
   "source": [
    "from operator import itemgetter\n",
    "pprint(sorted(details, key=itemgetter('first')))"
   ]
  },
  {
   "cell_type": "code",
   "execution_count": 45,
   "metadata": {},
   "outputs": [
    {
     "name": "stdout",
     "output_type": "stream",
     "text": [
      "[{'Age': 20, 'Last': 'Frimps', 'Salary': 2400, 'first': 'Elvis'},\n",
      " {'Age': 24, 'Last': 'Kyem', 'Salary': 2000, 'first': 'Gilbert'},\n",
      " {'Age': 23, 'Last': 'Kyere', 'Salary': 2100, 'first': 'Gilbert'},\n",
      " {'Age': 27, 'Last': 'Agyei', 'Salary': 2600, 'first': 'Kelvin'}]\n"
     ]
    }
   ],
   "source": [
    "pprint(sorted(details, key=lambda k: (k['first'], k['Last'])))"
   ]
  },
  {
   "cell_type": "code",
   "execution_count": 50,
   "metadata": {},
   "outputs": [
    {
     "name": "stdout",
     "output_type": "stream",
     "text": [
      "Maximum Age : \n",
      "{'first': 'Kelvin', 'Last': 'Agyei', 'Age': 27, 'Salary': 2600}\n",
      "Minimum Age : \n",
      "{'first': 'Elvis', 'Last': 'Frimps', 'Age': 20, 'Salary': 2400}\n"
     ]
    }
   ],
   "source": [
    "# Fimding the item with the maximum Age in details\n",
    "print('Maximum Age : ')\n",
    "print(max(details, key=itemgetter('Age')))\n",
    "\n",
    "# Fimding the item with the maximum Age in details\n",
    "print('Minimum Age : ')\n",
    "print(min(details, key=itemgetter('Age')))\n"
   ]
  },
  {
   "attachments": {},
   "cell_type": "markdown",
   "metadata": {},
   "source": [
    "# 1.14. Sorting Objects Without Native Comparison Support "
   ]
  },
  {
   "attachments": {},
   "cell_type": "markdown",
   "metadata": {},
   "source": [
    "## Problem \n",
    "> You want to sort some instances of a class but they don't natively support comparison operations "
   ]
  },
  {
   "cell_type": "code",
   "execution_count": 64,
   "metadata": {},
   "outputs": [
    {
     "data": {
      "text/plain": [
       "[User(Age = 21), User(Age = 23), User(Age = 25), User(Age = 26)]"
      ]
     },
     "execution_count": 64,
     "metadata": {},
     "output_type": "execute_result"
    }
   ],
   "source": [
    "class User(object):\n",
    "    def __init__(self, first, last, age):\n",
    "        self.first = first\n",
    "        self.last = last\n",
    "        self.age = age \n",
    "        \n",
    "    def __repr__(self):\n",
    "        return f'User(Age = {self.age})'\n",
    "\n",
    "# Create instances\n",
    "users = [User('Kofi', 'Kyere', 25), User('Kelvin', 'Kyere', 23), \n",
    "         User('Kwame', 'Agyei', 21), User('Kojo', 'Asamoah', 26)]\n",
    "\n",
    "# Sorting instances based on age\n",
    "sorted(users, key= lambda user:user.age)"
   ]
  },
  {
   "attachments": {},
   "cell_type": "markdown",
   "metadata": {},
   "source": [
    "This process can also be performed using `attrgetter` from `operator` module\n",
    "\n",
    "This is faster compared to the lambda operations"
   ]
  },
  {
   "cell_type": "code",
   "execution_count": 65,
   "metadata": {},
   "outputs": [
    {
     "data": {
      "text/plain": [
       "[User(Age = 21), User(Age = 23), User(Age = 25), User(Age = 26)]"
      ]
     },
     "execution_count": 65,
     "metadata": {},
     "output_type": "execute_result"
    }
   ],
   "source": [
    "from operator import attrgetter \n",
    "sorted(users, key=attrgetter('age'))"
   ]
  },
  {
   "cell_type": "code",
   "execution_count": 68,
   "metadata": {},
   "outputs": [
    {
     "data": {
      "text/plain": [
       "[User(Age = 21), User(Age = 26), User(Age = 23), User(Age = 25)]"
      ]
     },
     "execution_count": 68,
     "metadata": {},
     "output_type": "execute_result"
    }
   ],
   "source": [
    "# Order the lastnames and ages\n",
    "sorted(users, key=attrgetter('last', 'age'))"
   ]
  },
  {
   "cell_type": "code",
   "execution_count": 74,
   "metadata": {},
   "outputs": [
    {
     "name": "stdout",
     "output_type": "stream",
     "text": [
      "Maximum age:\n"
     ]
    },
    {
     "data": {
      "text/plain": [
       "User(Age = 26)"
      ]
     },
     "execution_count": 74,
     "metadata": {},
     "output_type": "execute_result"
    },
    {
     "name": "stdout",
     "output_type": "stream",
     "text": [
      "Minimun age : \n"
     ]
    },
    {
     "data": {
      "text/plain": [
       "User(Age = 21)"
      ]
     },
     "execution_count": 74,
     "metadata": {},
     "output_type": "execute_result"
    }
   ],
   "source": [
    "# Finding the max age \n",
    "print('Maximum age:')\n",
    "max(users, key=attrgetter('age'))\n",
    "# Finding the min age \n",
    "print('Minimun age : ')\n",
    "min(users, key=attrgetter('age'))"
   ]
  },
  {
   "attachments": {},
   "cell_type": "markdown",
   "metadata": {},
   "source": [
    "# 1.15. Grouping Records Together Based on a Field "
   ]
  },
  {
   "attachments": {},
   "cell_type": "markdown",
   "metadata": {},
   "source": [
    "## Problem \n",
    "> You want to group items(normally dictionaries) based on a particular key. "
   ]
  },
  {
   "cell_type": "code",
   "execution_count": 75,
   "metadata": {},
   "outputs": [],
   "source": [
    "details = [\n",
    "    {'first': 'Gilbert', 'Last': 'Kyem', 'Age':24, 'Salary':2000},\n",
    "    {'first': 'Elvis',   'Last': 'Frimps', 'Age':20, 'Salary':2400},\n",
    "    {'first': 'Kelvin',  'Last': 'Agyei', 'Age':27, 'Salary':2600},\n",
    "    {'first': 'Gilbert', 'Last': 'Kyere', 'Age':23, 'Salary':2100},\n",
    "    {'first': 'Gilbert', 'Last': 'Kyere', 'Age':23, 'Salary':2000},\n",
    "    {'first': 'Daniel',  'Last': 'Amoah', 'Age':24, 'Salary':2400},\n",
    "    \n",
    "]"
   ]
  },
  {
   "attachments": {},
   "cell_type": "markdown",
   "metadata": {},
   "source": [
    "We can use `groupby` function from `itertools` module. \n",
    "\n",
    "Before one can use groupby, we have to sort by our particular key"
   ]
  },
  {
   "cell_type": "code",
   "execution_count": 78,
   "metadata": {},
   "outputs": [],
   "source": [
    "from itertools import groupby\n",
    "from operator import itemgetter"
   ]
  },
  {
   "cell_type": "code",
   "execution_count": 77,
   "metadata": {},
   "outputs": [
    {
     "data": {
      "text/plain": [
       "[{'first': 'Gilbert', 'Last': 'Kyem', 'Age': 24, 'Salary': 2000},\n",
       " {'first': 'Gilbert', 'Last': 'Kyere', 'Age': 23, 'Salary': 2000},\n",
       " {'first': 'Gilbert', 'Last': 'Kyere', 'Age': 23, 'Salary': 2100},\n",
       " {'first': 'Elvis', 'Last': 'Frimps', 'Age': 20, 'Salary': 2400},\n",
       " {'first': 'Daniel', 'Last': 'Amoah', 'Age': 24, 'Salary': 2400},\n",
       " {'first': 'Kelvin', 'Last': 'Agyei', 'Age': 27, 'Salary': 2600}]"
      ]
     },
     "execution_count": 77,
     "metadata": {},
     "output_type": "execute_result"
    }
   ],
   "source": [
    "# Lets sort by salary\n",
    "details.sort(key= itemgetter('Salary'))\n",
    "details"
   ]
  },
  {
   "cell_type": "code",
   "execution_count": 86,
   "metadata": {},
   "outputs": [
    {
     "name": "stdout",
     "output_type": "stream",
     "text": [
      "2000\n",
      "{'first': 'Gilbert', 'Last': 'Kyem', 'Age': 24, 'Salary': 2000}\n",
      "{'first': 'Gilbert', 'Last': 'Kyere', 'Age': 23, 'Salary': 2000}\n",
      "**********\n",
      "2100\n",
      "{'first': 'Gilbert', 'Last': 'Kyere', 'Age': 23, 'Salary': 2100}\n",
      "**********\n",
      "2400\n",
      "{'first': 'Elvis', 'Last': 'Frimps', 'Age': 20, 'Salary': 2400}\n",
      "{'first': 'Daniel', 'Last': 'Amoah', 'Age': 24, 'Salary': 2400}\n",
      "**********\n",
      "2600\n",
      "{'first': 'Kelvin', 'Last': 'Agyei', 'Age': 27, 'Salary': 2600}\n",
      "**********\n"
     ]
    }
   ],
   "source": [
    "# Let's groupby Salary\n",
    "for Salary, item in groupby(details, key=itemgetter('Salary')):\n",
    "    print(Salary)\n",
    "    for i in item:\n",
    "        print(i)\n",
    "    print('*'*10)\n"
   ]
  },
  {
   "attachments": {},
   "cell_type": "markdown",
   "metadata": {},
   "source": [
    "If you don't want to perform sort() first, one can use `defaultdict`"
   ]
  },
  {
   "cell_type": "code",
   "execution_count": 88,
   "metadata": {},
   "outputs": [],
   "source": [
    "details2 = [\n",
    "    {'first': 'Gilbert', 'Last': 'Kyem', 'Age':24, 'Salary':2000},\n",
    "    {'first': 'Elvis',   'Last': 'Frimps', 'Age':20, 'Salary':2400},\n",
    "    {'first': 'Kelvin',  'Last': 'Agyei', 'Age':27, 'Salary':2600},\n",
    "    {'first': 'Gilbert', 'Last': 'Kyere', 'Age':23, 'Salary':2100},\n",
    "    {'first': 'Gilbert', 'Last': 'Kyere', 'Age':23, 'Salary':2000},\n",
    "    {'first': 'Daniel',  'Last': 'Amoah', 'Age':24, 'Salary':2400},\n",
    " ]"
   ]
  },
  {
   "cell_type": "code",
   "execution_count": 92,
   "metadata": {},
   "outputs": [
    {
     "name": "stdout",
     "output_type": "stream",
     "text": [
      "{'first': 'Gilbert', 'Last': 'Kyem', 'Age': 24, 'Salary': 2000}\n",
      "{'first': 'Gilbert', 'Last': 'Kyere', 'Age': 23, 'Salary': 2000}\n"
     ]
    }
   ],
   "source": [
    "from collections import defaultdict\n",
    "# create our dictionary with values as list\n",
    "details_by_sal = defaultdict(list)\n",
    "\n",
    "for row in details2:\n",
    "    details_by_sal[row['Salary']].append(row)\n",
    "\n",
    "# print rows having a Salary of 2000\n",
    "for row in details_by_sal[2000]:\n",
    "    print(row)"
   ]
  },
  {
   "attachments": {},
   "cell_type": "markdown",
   "metadata": {},
   "source": [
    "# 1.16. Filtering Sequence Elements "
   ]
  },
  {
   "attachments": {},
   "cell_type": "markdown",
   "metadata": {},
   "source": [
    "## Problem \n",
    ">You want filter or extract some data inside a sequence "
   ]
  },
  {
   "attachments": {},
   "cell_type": "markdown",
   "metadata": {},
   "source": [
    "### Using List Comprehensions "
   ]
  },
  {
   "cell_type": "code",
   "execution_count": 2,
   "metadata": {},
   "outputs": [
    {
     "data": {
      "text/plain": [
       "[4, -2, 10, 2, 6]"
      ]
     },
     "execution_count": 2,
     "metadata": {},
     "output_type": "execute_result"
    }
   ],
   "source": [
    "mylist = [1, 4, 9, -2, 10, -7, 2, 3, -1, 6]\n",
    "[i for i in mylist if i%2 == 0]"
   ]
  },
  {
   "attachments": {},
   "cell_type": "markdown",
   "metadata": {},
   "source": [
    "### Using Generator functions to filter functions iteratively "
   ]
  },
  {
   "cell_type": "code",
   "execution_count": 5,
   "metadata": {},
   "outputs": [
    {
     "data": {
      "text/plain": [
       "<generator object <genexpr> at 0x00000223889D4C10>"
      ]
     },
     "execution_count": 5,
     "metadata": {},
     "output_type": "execute_result"
    }
   ],
   "source": [
    "# Using a tuple generates a generator\n",
    "gen = (i for i in mylist if i%2 == 0)\n",
    "gen"
   ]
  },
  {
   "cell_type": "code",
   "execution_count": 6,
   "metadata": {},
   "outputs": [
    {
     "name": "stdout",
     "output_type": "stream",
     "text": [
      "4\n",
      "-2\n",
      "10\n",
      "2\n",
      "6\n"
     ]
    }
   ],
   "source": [
    "for i in gen:\n",
    "    print(i)"
   ]
  },
  {
   "attachments": {},
   "cell_type": "markdown",
   "metadata": {},
   "source": [
    "### Creating your custom filters when list comprehensions/generators can perform the task"
   ]
  },
  {
   "cell_type": "code",
   "execution_count": 15,
   "metadata": {},
   "outputs": [
    {
     "name": "stdout",
     "output_type": "stream",
     "text": [
      "['1', 8.0, 0.2, 5, 9]\n"
     ]
    }
   ],
   "source": [
    "var_list = ['1', 'NA', (1, 2, 3), [1, 2, 3], 8.0, 0.2, 5, 9]\n",
    "\n",
    "def my_filter(var):\n",
    "    try:\n",
    "        a = int(var)\n",
    "        return True\n",
    "    except (ValueError, TypeError) as error:\n",
    "        return False\n",
    "\n",
    "print(list(filter(my_filter, var_list)))\n",
    "            "
   ]
  },
  {
   "attachments": {},
   "cell_type": "markdown",
   "metadata": {},
   "source": [
    "### Adding an `else statement` in list comprehension if condition doesn't pass"
   ]
  },
  {
   "cell_type": "code",
   "execution_count": 17,
   "metadata": {},
   "outputs": [
    {
     "data": {
      "text/plain": [
       "[1, 4, 9, 0, 10, 0, 2, 3, 0, 6]"
      ]
     },
     "execution_count": 17,
     "metadata": {},
     "output_type": "execute_result"
    }
   ],
   "source": [
    "[n if n>0 else 0 for n in mylist] "
   ]
  },
  {
   "attachments": {},
   "cell_type": "markdown",
   "metadata": {},
   "source": [
    "###  Performing boolean masking using `compress` in `itertools` module "
   ]
  },
  {
   "cell_type": "code",
   "execution_count": 20,
   "metadata": {},
   "outputs": [],
   "source": [
    "from itertools import compress "
   ]
  },
  {
   "cell_type": "code",
   "execution_count": 25,
   "metadata": {},
   "outputs": [
    {
     "name": "stdout",
     "output_type": "stream",
     "text": [
      "[-2, -7, -1]\n"
     ]
    }
   ],
   "source": [
    "# Creating our list comprehension of booleans \n",
    "# Returns true if a number is negative \n",
    "my_bool = [bool(1) if i<0 else bool(0) for i in mylist]\n",
    "my_bool\n",
    "\n",
    "# Filtering based on the booleans \n",
    "# Getting values corresponding to the True boolean\n",
    "print(list(compress(mylist, my_bool)))"
   ]
  },
  {
   "attachments": {},
   "cell_type": "markdown",
   "metadata": {},
   "source": [
    "# 1.17. Extracting a Subset of a Dictionary "
   ]
  },
  {
   "attachments": {},
   "cell_type": "markdown",
   "metadata": {},
   "source": [
    "## Problem \n",
    "> Subsetting a dictionary "
   ]
  },
  {
   "cell_type": "code",
   "execution_count": 30,
   "metadata": {},
   "outputs": [
    {
     "data": {
      "text/plain": [
       "{'Adwoa': 20, 'Kwame': 18, 'Ama': 17}"
      ]
     },
     "execution_count": 30,
     "metadata": {},
     "output_type": "execute_result"
    }
   ],
   "source": [
    "# Let's create some dictionary of ages \n",
    "ages = {\n",
    "    'Adwoa' : 20, \n",
    "    'Kwame' : 18, \n",
    "    'Ama' : 17,\n",
    "    'Kojo' : 22,\n",
    "    'Abena' : 24\n",
    "}\n",
    "\n",
    "# Create a dictionary comprehension to filter our dictionary\n",
    "# ages that are <= 20\n",
    "{key:value for key, value in ages.items() if value <=20}"
   ]
  },
  {
   "attachments": {},
   "cell_type": "markdown",
   "metadata": {},
   "source": [
    "The above can also be achieved with tuple : "
   ]
  },
  {
   "cell_type": "code",
   "execution_count": 33,
   "metadata": {},
   "outputs": [
    {
     "data": {
      "text/plain": [
       "{'Adwoa': 20, 'Kwame': 18, 'Ama': 17}"
      ]
     },
     "execution_count": 33,
     "metadata": {},
     "output_type": "execute_result"
    }
   ],
   "source": [
    "dict((key,value) for key, value in ages.items() if value <=20)"
   ]
  },
  {
   "attachments": {},
   "cell_type": "markdown",
   "metadata": {},
   "source": [
    "The above is slower in execution compared with the former"
   ]
  },
  {
   "attachments": {},
   "cell_type": "markdown",
   "metadata": {},
   "source": [
    "# 1.18. Mapping Names to Sequence Elements "
   ]
  },
  {
   "attachments": {},
   "cell_type": "markdown",
   "metadata": {},
   "source": [
    "## Problem \n",
    "> You want to acess some sequence of elements by their name not index "
   ]
  },
  {
   "attachments": {},
   "cell_type": "markdown",
   "metadata": {},
   "source": [
    "`namedtuple` from the `collections` module will help us achieve this "
   ]
  },
  {
   "cell_type": "code",
   "execution_count": 43,
   "metadata": {},
   "outputs": [
    {
     "data": {
      "text/plain": [
       "Customer(id=12, first_name='Blessing', last_name='Agyei Kyem')"
      ]
     },
     "execution_count": 43,
     "metadata": {},
     "output_type": "execute_result"
    }
   ],
   "source": [
    "from collections import namedtuple\n",
    "\n",
    "# Let's create one\n",
    "Customer = namedtuple('Customer', ['id', 'first_name', 'last_name'])\n",
    "\n",
    "cus1 = Customer(12, 'Blessing', 'Agyei Kyem')\n",
    "cus1"
   ]
  },
  {
   "cell_type": "code",
   "execution_count": 45,
   "metadata": {},
   "outputs": [
    {
     "name": "stdout",
     "output_type": "stream",
     "text": [
      "12\n",
      "Blessing\n",
      "Agyei Kyem\n"
     ]
    }
   ],
   "source": [
    "print(cus1.id)\n",
    "print(cus1.first_name)\n",
    "print(cus1.last_name)"
   ]
  },
  {
   "attachments": {},
   "cell_type": "markdown",
   "metadata": {},
   "source": [
    "You can perform all the operations you would have done on an `ordinary tuple` on a `named tuple` "
   ]
  },
  {
   "cell_type": "code",
   "execution_count": 46,
   "metadata": {},
   "outputs": [
    {
     "data": {
      "text/plain": [
       "3"
      ]
     },
     "execution_count": 46,
     "metadata": {},
     "output_type": "execute_result"
    }
   ],
   "source": [
    "# Check the length of the tuple \n",
    "len(cus1)"
   ]
  },
  {
   "cell_type": "code",
   "execution_count": 48,
   "metadata": {},
   "outputs": [
    {
     "name": "stdout",
     "output_type": "stream",
     "text": [
      "My full name is Blessing Agyei Kyem\n"
     ]
    }
   ],
   "source": [
    "_, first, last = cus1\n",
    "print(f'My full name is {first} {last}')"
   ]
  },
  {
   "cell_type": "code",
   "execution_count": 58,
   "metadata": {},
   "outputs": [],
   "source": [
    "def add(vars):\n",
    "    output = 0\n",
    "    for var in vars:\n",
    "        output += var[0] + var[1]\n",
    "    return output "
   ]
  },
  {
   "cell_type": "code",
   "execution_count": 59,
   "metadata": {},
   "outputs": [
    {
     "data": {
      "text/plain": [
       "18"
      ]
     },
     "execution_count": 59,
     "metadata": {},
     "output_type": "execute_result"
    }
   ],
   "source": [
    "values = [(0, 5), (3, 4), (2, 4)]\n",
    "add(values)"
   ]
  },
  {
   "attachments": {},
   "cell_type": "markdown",
   "metadata": {},
   "source": [
    ">The above code isn't clear on what you are supposed to do. Using `namedtuple` might lay down what you would like to achieve explicitly"
   ]
  },
  {
   "cell_type": "code",
   "execution_count": 50,
   "metadata": {},
   "outputs": [],
   "source": [
    "# Create a namedtuple \n",
    "Add = namedtuple('Add', ['first_number', 'second_number'])"
   ]
  },
  {
   "cell_type": "code",
   "execution_count": 56,
   "metadata": {},
   "outputs": [],
   "source": [
    "def add(vars):\n",
    "    output = 0\n",
    "    for var in vars:\n",
    "        add = Add(*var)\n",
    "        output += add.first_number + add.second_number\n",
    "    return output "
   ]
  },
  {
   "cell_type": "code",
   "execution_count": 57,
   "metadata": {},
   "outputs": [
    {
     "data": {
      "text/plain": [
       "18"
      ]
     },
     "execution_count": 57,
     "metadata": {},
     "output_type": "execute_result"
    }
   ],
   "source": [
    "values = [(0, 5), (3, 4), (2, 4)]\n",
    "add(values)"
   ]
  },
  {
   "attachments": {},
   "cell_type": "markdown",
   "metadata": {},
   "source": [
    "> If you are working on a building a large dictionary which will require a lot of space, <br>\n",
    "going for a namedtuple will be more efficient "
   ]
  },
  {
   "attachments": {},
   "cell_type": "markdown",
   "metadata": {},
   "source": [
    "`namedtuples` aren't mutable "
   ]
  },
  {
   "cell_type": "code",
   "execution_count": 60,
   "metadata": {},
   "outputs": [
    {
     "ename": "AttributeError",
     "evalue": "can't set attribute",
     "output_type": "error",
     "traceback": [
      "\u001b[1;31m---------------------------------------------------------------------------\u001b[0m",
      "\u001b[1;31mAttributeError\u001b[0m                            Traceback (most recent call last)",
      "\u001b[1;32mc:\\Users\\Blessing\\Documents\\Python-Practice\\Data-Structures-And-Algorithms\\Data-Structures-And-Algorithms.ipynb Cell 184\u001b[0m in \u001b[0;36m<cell line: 1>\u001b[1;34m()\u001b[0m\n\u001b[1;32m----> <a href='vscode-notebook-cell:/c%3A/Users/Blessing/Documents/Python-Practice/Data-Structures-And-Algorithms/Data-Structures-And-Algorithms.ipynb#Y364sZmlsZQ%3D%3D?line=0'>1</a>\u001b[0m cus1\u001b[39m.\u001b[39;49mfirst_name \u001b[39m=\u001b[39m \u001b[39m'\u001b[39m\u001b[39mBless\u001b[39m\u001b[39m'\u001b[39m\n",
      "\u001b[1;31mAttributeError\u001b[0m: can't set attribute"
     ]
    }
   ],
   "source": [
    "cus1.first_name = 'Bless'"
   ]
  },
  {
   "attachments": {},
   "cell_type": "markdown",
   "metadata": {},
   "source": [
    "You can use `_replace` function if you want to replace some value in a `namedtuple`"
   ]
  },
  {
   "cell_type": "code",
   "execution_count": 63,
   "metadata": {},
   "outputs": [
    {
     "data": {
      "text/plain": [
       "Customer(id=12, first_name='Kelvin', last_name='Agyei Kyem')"
      ]
     },
     "execution_count": 63,
     "metadata": {},
     "output_type": "execute_result"
    }
   ],
   "source": [
    "cus1._replace(first_name='Kelvin')"
   ]
  },
  {
   "attachments": {},
   "cell_type": "markdown",
   "metadata": {},
   "source": [
    "You can also replace a `namedtuple` with the keys of dictionary having same set of names <br>\n",
    "as your `namedtuple`  "
   ]
  },
  {
   "cell_type": "code",
   "execution_count": 64,
   "metadata": {},
   "outputs": [],
   "source": [
    "# Creating a new namedtuple\n",
    "details = namedtuple('details', ['id', 'name', 'age', 'Salary'])\n",
    "\n",
    "user = details('01', 'Blesssing', None, None)"
   ]
  },
  {
   "cell_type": "code",
   "execution_count": 65,
   "metadata": {},
   "outputs": [
    {
     "data": {
      "text/plain": [
       "details(id='02', name='Joseph', age=25, Salary=5000)"
      ]
     },
     "execution_count": 65,
     "metadata": {},
     "output_type": "execute_result"
    }
   ],
   "source": [
    "# new dictionary\n",
    "new_dict = {'id': '02', 'name': 'Joseph', 'age':25, 'Salary': 5000}\n",
    "\n",
    "# Update my namedtuple with the above dictionary\n",
    "user._replace(**new_dict)"
   ]
  },
  {
   "attachments": {},
   "cell_type": "markdown",
   "metadata": {},
   "source": [
    "**`CAVEAT`** - If you will be replacing the values in your namedtuple most of the time, it is not advisable <br>\n",
    "to use a namedtuple"
   ]
  },
  {
   "attachments": {},
   "cell_type": "markdown",
   "metadata": {},
   "source": [
    "# 1.19. Transforming and Reducing Data at the Same Time "
   ]
  },
  {
   "attachments": {},
   "cell_type": "markdown",
   "metadata": {},
   "source": [
    "## Problem \n",
    "> Finding an efficient and elegant way to execute a reduction function e.g. `sum(), min(), max()`"
   ]
  },
  {
   "cell_type": "markdown",
   "metadata": {},
   "source": [
    "### Using a generator-expression argument"
   ]
  },
  {
   "cell_type": "code",
   "execution_count": 66,
   "metadata": {},
   "outputs": [
    {
     "data": {
      "text/plain": [
       "220"
      ]
     },
     "execution_count": 66,
     "metadata": {},
     "output_type": "execute_result"
    }
   ],
   "source": [
    "values = [0, 2, 4, 6, 8, 10]\n",
    "sum_val = sum(x*x for x in values)\n",
    "sum_val"
   ]
  },
  {
   "attachments": {},
   "cell_type": "markdown",
   "metadata": {},
   "source": [
    "The above is more elegant than typing : <br>\n",
    "\n",
    "```python\n",
    "sum_val = sum((x*x for x in values))\n",
    "```"
   ]
  },
  {
   "cell_type": "code",
   "execution_count": 73,
   "metadata": {},
   "outputs": [
    {
     "data": {
      "text/plain": [
       "'My Age is 40'"
      ]
     },
     "execution_count": 73,
     "metadata": {},
     "output_type": "execute_result"
    }
   ],
   "source": [
    "strings = ('My', 'Age', 'is', 40)\n",
    "' '.join(str(x) for x in strings)"
   ]
  },
  {
   "cell_type": "code",
   "execution_count": 74,
   "metadata": {},
   "outputs": [],
   "source": [
    "details = [\n",
    "    {'first': 'Gilbert', 'Last': 'Kyem', 'Age':24, 'Salary':2000},\n",
    "    {'first': 'Elvis', 'Last': 'Frimps', 'Age':20, 'Salary':2400},\n",
    "    {'first': 'Kelvin', 'Last': 'Agyei', 'Age':27, 'Salary':2600},\n",
    "    {'first': 'Gilbert', 'Last': 'Kyere', 'Age':23, 'Salary':2100},\n",
    "]"
   ]
  },
  {
   "cell_type": "code",
   "execution_count": 80,
   "metadata": {},
   "outputs": [
    {
     "data": {
      "text/plain": [
       "2000"
      ]
     },
     "execution_count": 80,
     "metadata": {},
     "output_type": "execute_result"
    },
    {
     "data": {
      "text/plain": [
       "{'first': 'Kelvin', 'Last': 'Agyei', 'Age': 27, 'Salary': 2600}"
      ]
     },
     "execution_count": 80,
     "metadata": {},
     "output_type": "execute_result"
    }
   ],
   "source": [
    "# Find the minimum salary \n",
    "min(detail['Salary'] for detail in details)\n",
    "\n",
    "# Finding the detail maximum age\n",
    "max(details, key=lambda x:x['Age'])"
   ]
  },
  {
   "attachments": {},
   "cell_type": "markdown",
   "metadata": {},
   "source": [
    "# 1.20. Combining Multiple Mappings into a Single Mapping"
   ]
  },
  {
   "attachments": {},
   "cell_type": "markdown",
   "metadata": {},
   "source": [
    "## Problem \n",
    "> You want to map multiple dictionaries and then be able to extract values present in either of them"
   ]
  },
  {
   "attachments": {},
   "cell_type": "markdown",
   "metadata": {},
   "source": [
    "This can be achieved with the `ChainMap` function in the `collections` module"
   ]
  },
  {
   "cell_type": "code",
   "execution_count": 3,
   "metadata": {},
   "outputs": [],
   "source": [
    "from collections import ChainMap"
   ]
  },
  {
   "cell_type": "code",
   "execution_count": 83,
   "metadata": {},
   "outputs": [
    {
     "data": {
      "text/plain": [
       "1"
      ]
     },
     "execution_count": 83,
     "metadata": {},
     "output_type": "execute_result"
    }
   ],
   "source": [
    "# Let's create two dictionaries \n",
    "a = {'x': 1, 'z': 3}\n",
    "b = {'y':2, 'z' : 4}\n",
    "c = {'x' : 2, 'e':6}\n",
    "\n",
    "# Map the two dictionaries \n",
    "result = ChainMap(a, b, c)\n",
    "# Accessing the 'x' key\n",
    "result['x']"
   ]
  },
  {
   "attachments": {},
   "cell_type": "markdown",
   "metadata": {},
   "source": [
    "> This will return the first occurence of the value which corresponds to the key `x` \n",
    "in our mapped dictionaries. This value is found in our `a` dictionary"
   ]
  },
  {
   "cell_type": "code",
   "execution_count": 85,
   "metadata": {},
   "outputs": [
    {
     "data": {
      "text/plain": [
       "6"
      ]
     },
     "execution_count": 85,
     "metadata": {},
     "output_type": "execute_result"
    },
    {
     "data": {
      "text/plain": [
       "2"
      ]
     },
     "execution_count": 85,
     "metadata": {},
     "output_type": "execute_result"
    }
   ],
   "source": [
    "result['e']\n",
    "result['y']"
   ]
  },
  {
   "attachments": {},
   "cell_type": "markdown",
   "metadata": {},
   "source": [
    "Changing any of the values affects the first mapping \n",
    "\n",
    "### Example :"
   ]
  },
  {
   "cell_type": "code",
   "execution_count": 86,
   "metadata": {},
   "outputs": [],
   "source": [
    "result['x'] = 10\n",
    "result['z'] = 90"
   ]
  },
  {
   "cell_type": "code",
   "execution_count": 89,
   "metadata": {},
   "outputs": [
    {
     "data": {
      "text/plain": [
       "{'x': 10, 'z': 90}"
      ]
     },
     "execution_count": 89,
     "metadata": {},
     "output_type": "execute_result"
    }
   ],
   "source": [
    "a"
   ]
  },
  {
   "cell_type": "code",
   "execution_count": 90,
   "metadata": {},
   "outputs": [
    {
     "ename": "KeyError",
     "evalue": "'y'",
     "output_type": "error",
     "traceback": [
      "\u001b[1;31m---------------------------------------------------------------------------\u001b[0m",
      "\u001b[1;31mKeyError\u001b[0m                                  Traceback (most recent call last)",
      "\u001b[1;32mc:\\Users\\Blessing\\Documents\\Python-Practice\\Data-Structures-And-Algorithms\\Data-Structures-And-Algorithms.ipynb Cell 209\u001b[0m in \u001b[0;36m<cell line: 1>\u001b[1;34m()\u001b[0m\n\u001b[1;32m----> <a href='vscode-notebook-cell:/c%3A/Users/Blessing/Documents/Python-Practice/Data-Structures-And-Algorithms/Data-Structures-And-Algorithms.ipynb#Y435sZmlsZQ%3D%3D?line=0'>1</a>\u001b[0m \u001b[39mdel\u001b[39;00m c[\u001b[39m'\u001b[39m\u001b[39my\u001b[39m\u001b[39m'\u001b[39m]\n",
      "\u001b[1;31mKeyError\u001b[0m: 'y'"
     ]
    }
   ],
   "source": [
    "del c['y']"
   ]
  },
  {
   "attachments": {},
   "cell_type": "markdown",
   "metadata": {},
   "source": [
    "### Creating your custom ChainMap"
   ]
  },
  {
   "cell_type": "code",
   "execution_count": 97,
   "metadata": {},
   "outputs": [
    {
     "data": {
      "text/plain": [
       "ChainMap({'x': 0}, {'x': 2}, {'x': 12})"
      ]
     },
     "execution_count": 97,
     "metadata": {},
     "output_type": "execute_result"
    }
   ],
   "source": [
    "#initialize our ChainMap\n",
    "\n",
    "values = ChainMap()\n",
    "# Add a parent \n",
    "values['x'] = 12 \n",
    "# Add a new mapping\n",
    "values = values.new_child()\n",
    "values['x'] = 2\n",
    "# Add a new mapping\n",
    "values = values.new_child()\n",
    "values['x'] = 0\n",
    "\n",
    "values"
   ]
  },
  {
   "cell_type": "code",
   "execution_count": 98,
   "metadata": {},
   "outputs": [
    {
     "data": {
      "text/plain": [
       "0"
      ]
     },
     "execution_count": 98,
     "metadata": {},
     "output_type": "execute_result"
    }
   ],
   "source": [
    "# This will output the last child \n",
    "values['x']"
   ]
  },
  {
   "cell_type": "code",
   "execution_count": 99,
   "metadata": {},
   "outputs": [
    {
     "data": {
      "text/plain": [
       "ChainMap({'x': 2}, {'x': 12})"
      ]
     },
     "execution_count": 99,
     "metadata": {},
     "output_type": "execute_result"
    }
   ],
   "source": [
    "# Discard the last mapping which is {'x': 0}\n",
    "values = values.parents\n",
    "values"
   ]
  },
  {
   "cell_type": "code",
   "execution_count": 100,
   "metadata": {},
   "outputs": [
    {
     "data": {
      "text/plain": [
       "ChainMap({'x': 12})"
      ]
     },
     "execution_count": 100,
     "metadata": {},
     "output_type": "execute_result"
    }
   ],
   "source": [
    "# Discard the last mapping again which {'x':2}\n",
    "values = values.parents\n",
    "values"
   ]
  },
  {
   "attachments": {},
   "cell_type": "markdown",
   "metadata": {},
   "source": [
    "### Merging dictionaries using the `update()` method"
   ]
  },
  {
   "cell_type": "code",
   "execution_count": 101,
   "metadata": {},
   "outputs": [
    {
     "data": {
      "text/plain": [
       "{'y': 2, 'z': 3, 'x': 1}"
      ]
     },
     "execution_count": 101,
     "metadata": {},
     "output_type": "execute_result"
    }
   ],
   "source": [
    "a = {'x': 1, 'z': 3}\n",
    "b = {'y':2, 'z' : 4}\n",
    "\n",
    "merge = dict(b)\n",
    "\n",
    "merge.update(a)\n",
    "merge"
   ]
  },
  {
   "attachments": {},
   "cell_type": "markdown",
   "metadata": {},
   "source": [
    "Changing some values of `a` doesn't update our `merge` dictionary if use `update()` method\n",
    "#### Example : "
   ]
  },
  {
   "cell_type": "code",
   "execution_count": 102,
   "metadata": {},
   "outputs": [
    {
     "data": {
      "text/plain": [
       "1"
      ]
     },
     "execution_count": 102,
     "metadata": {},
     "output_type": "execute_result"
    }
   ],
   "source": [
    "a['x'] = 100\n",
    "merge['x']"
   ]
  },
  {
   "attachments": {},
   "cell_type": "markdown",
   "metadata": {},
   "source": [
    "But with `ChainMap`, changing the values of any of the variables will update our `merge` dictionary <br>\n",
    "### Example : "
   ]
  },
  {
   "cell_type": "code",
   "execution_count": 4,
   "metadata": {},
   "outputs": [
    {
     "data": {
      "text/plain": [
       "1"
      ]
     },
     "execution_count": 4,
     "metadata": {},
     "output_type": "execute_result"
    }
   ],
   "source": [
    "a = {'x': 1, 'z': 3}\n",
    "b = {'y':2, 'z' : 4}\n",
    "\n",
    "merge = ChainMap(a, b)\n",
    "\n",
    "merge['x']"
   ]
  },
  {
   "cell_type": "code",
   "execution_count": 5,
   "metadata": {},
   "outputs": [
    {
     "data": {
      "text/plain": [
       "100"
      ]
     },
     "execution_count": 5,
     "metadata": {},
     "output_type": "execute_result"
    }
   ],
   "source": [
    "# Changing the value of x in a\n",
    "a['x'] = 100\n",
    "\n",
    "merge['x']\n"
   ]
  },
  {
   "attachments": {},
   "cell_type": "markdown",
   "metadata": {},
   "source": [
    "As seen above, our `merge` dictionary has been updated with the new value for `x` when we implemented <br>\n",
    "it using `ChainMap`"
   ]
  }
 ],
 "metadata": {
  "kernelspec": {
   "display_name": "Python 3",
   "language": "python",
   "name": "python3"
  },
  "language_info": {
   "codemirror_mode": {
    "name": "ipython",
    "version": 3
   },
   "file_extension": ".py",
   "mimetype": "text/x-python",
   "name": "python",
   "nbconvert_exporter": "python",
   "pygments_lexer": "ipython3",
   "version": "3.9.8"
  },
  "orig_nbformat": 4,
  "vscode": {
   "interpreter": {
    "hash": "297ad8aa44b3e7fc18f71cc7cf2f2a04aaff6dd40f0a2c1a8eedb800597f95eb"
   }
  }
 },
 "nbformat": 4,
 "nbformat_minor": 2
}
